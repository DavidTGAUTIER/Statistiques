{
 "cells": [
  {
   "attachments": {},
   "cell_type": "markdown",
   "id": "a5c4ab4d",
   "metadata": {},
   "source": [
    "Dans ce notebook, nous allons nous concentrer sur les variables"
   ]
  },
  {
   "cell_type": "markdown",
   "id": "4c8ea62e",
   "metadata": {},
   "source": [
    "# Régression linéaire avec des variables catégorielles."
   ]
  },
  {
   "cell_type": "markdown",
   "id": "606d8078",
   "metadata": {},
   "source": [
    "## Exercice 1"
   ]
  },
  {
   "cell_type": "markdown",
   "id": "990b2c88",
   "metadata": {},
   "source": [
    "On suppose qu’on dispose d’un ensemble d’observations $(X_i, Y_i)$ avec $X_i, Y_i \\in \\mathbb{R}$. La régression linéaire consiste une relation linéaire $Y_i = a X_i + b + \\epsilon_i$ qui minimise la variance du bruit. On pose :\n",
    "\n",
    "$E(a, b) = \\sum_i (Y_i - (a X_i + b))^2$\n",
    "\n",
    "On cherche a, b tels que :\n",
    "\n",
    "$a^*, b^* = \\arg \\min E(a, b) = \\arg \\min \\sum_i (Y_i - (a X_i + b))^2$\n",
    "\n",
    "La fonction est dérivable et on trouve :\n",
    "\n",
    "$\\frac{\\partial E(a,b)}{\\partial a} = - 2 \\sum_i X_i ( Y_i - (a X_i + b)) \\text{ et } \\frac{\\partial E(a,b)}{\\partial b} = - 2 \\sum_i ( Y_i - (a X_i + b))$\n",
    "\n",
    "Il suffit alors d’annuler les dérivées. On résoud un système d’équations linéaires. On note :\n",
    "\n",
    "$\\begin{array}{l} \\mathbb{E} X = \\frac{1}{n}\\sum_{i=1}^n X_i \\text{ et } \\mathbb{E} Y = \\frac{1}{n}\\sum_{i=1}^n Y_i \\\\ \\mathbb{E}(X^2) = \\frac{1}{n}\\sum_{i=1}^n X_i^2 \\text{ et } \\mathbb{E}(XY) = \\frac{1}{n}\\sum_{i=1}^n X_i Y_i \\end{array}$\n",
    "\n",
    "Finalement :\n",
    "\n",
    "$\\begin{array}{l} a^* = \\frac{ \\mathbb{E}(XY) - \\mathbb{E} X \\mathbb{E} Y}{\\mathbb{E}(X^2) - (\\mathbb{E} X)^2} \\text{ et } b^* = \\mathbb{E} Y - a^* \\mathbb{E} X \\end{array}$\n"
   ]
  },
  {
   "cell_type": "markdown",
   "id": "544219f3",
   "metadata": {},
   "source": [
    "### 1. Nuage de points"
   ]
  },
  {
   "cell_type": "code",
   "execution_count": 22,
   "id": "fd89ae52",
   "metadata": {},
   "outputs": [],
   "source": [
    "import random\n",
    "def generate_xy(n=100, a=0.5, b=1):\n",
    "    res = []\n",
    "    for i in range(0, n):\n",
    "        x = random.uniform(0, 10)\n",
    "        res.append((x, x*a + b + random.gauss(0,1)))\n",
    "    return res"
   ]
  },
  {
   "cell_type": "code",
   "execution_count": 2,
   "id": "12a9f01a",
   "metadata": {},
   "outputs": [
    {
     "data": {
      "text/plain": [
       "[(9.71503802440293, 5.180449115456406),\n",
       " (0.8229493937313104, 2.104952592629796),\n",
       " (7.562197939489525, 4.858337668539051),\n",
       " (1.104593129497945, 1.1820863189746658),\n",
       " (5.063972466726126, 4.342027293327647),\n",
       " (2.953998094535769, 1.99343267227902),\n",
       " (2.0828805991320376, 2.5782863031931647),\n",
       " (7.126555110646074, 5.11537230430071),\n",
       " (2.3326949397696306, 2.4246543225536175),\n",
       " (4.876347364220336, 3.84236897777593)]"
      ]
     },
     "execution_count": 2,
     "metadata": {},
     "output_type": "execute_result"
    }
   ],
   "source": [
    "generate_xy(10)"
   ]
  },
  {
   "cell_type": "markdown",
   "id": "1d4890bd",
   "metadata": {},
   "source": [
    "### 2. Calcul de l'esperance"
   ]
  },
  {
   "cell_type": "markdown",
   "id": "344cace5",
   "metadata": {},
   "source": [
    "Ecrire une fonction qui calcule $\\mathbb{E} X, \\mathbb{E} Y, \\mathbb{E}(XY), \\mathbb{E}(X^2)$.</br>\n",
    "`obs` = résultat de la fonction précédente."
   ]
  },
  {
   "cell_type": "code",
   "execution_count": 3,
   "id": "8a9abcd7",
   "metadata": {},
   "outputs": [],
   "source": [
    "def calcule_exyxyx2(obs):\n",
    "    sx = 0\n",
    "    sy = 0\n",
    "    sxy = 0\n",
    "    sx2 = 0\n",
    "    for x, y in obs:\n",
    "        sx += x\n",
    "        sy += y\n",
    "        sxy += x * y\n",
    "        sx2 += x * x\n",
    "    n = len(obs)\n",
    "    \n",
    "    return sx/n, sy/n, sxy/n, sx2/n"
   ]
  },
  {
   "cell_type": "code",
   "execution_count": 4,
   "id": "f8338fab",
   "metadata": {},
   "outputs": [
    {
     "data": {
      "text/plain": [
       "(3.8834813795387637, 3.292150703363384, 17.26833855662608, 24.07968652629133)"
      ]
     },
     "execution_count": 4,
     "metadata": {},
     "output_type": "execute_result"
    }
   ],
   "source": [
    "obs = generate_xy(10)\n",
    "\n",
    "calcule_exyxyx2(obs)"
   ]
  },
  {
   "cell_type": "markdown",
   "id": "fec47061",
   "metadata": {},
   "source": [
    "### 3. Calcul des coefs"
   ]
  },
  {
   "cell_type": "markdown",
   "id": "93ab4d76",
   "metadata": {},
   "source": [
    "Calculer les grandeurs $a^*$, $b^*$. A priori, on doit retrouver quelque chose d’assez proche des valeurs choisies pour la première question : $a=0.5$, $b=1$."
   ]
  },
  {
   "cell_type": "code",
   "execution_count": 5,
   "id": "4a2cd8b1",
   "metadata": {},
   "outputs": [],
   "source": [
    "def calcule_ab(obs):\n",
    "    sx, sy, sxy, sx2 = calcule_exyxyx2(obs)\n",
    "    a = (sxy - sx * sx)  / (sx2 - sx**2)\n",
    "    b = sy - a * sx\n",
    "    return a, b"
   ]
  },
  {
   "cell_type": "code",
   "execution_count": 6,
   "id": "ee147ea8",
   "metadata": {},
   "outputs": [
    {
     "data": {
      "text/plain": [
       "(0.2430371203414089, 2.3483205719808007)"
      ]
     },
     "execution_count": 6,
     "metadata": {},
     "output_type": "execute_result"
    }
   ],
   "source": [
    "calcule_ab(obs)"
   ]
  },
  {
   "cell_type": "markdown",
   "id": "dc2b101f",
   "metadata": {},
   "source": [
    "### 4. Generer les categories"
   ]
  },
  {
   "cell_type": "code",
   "execution_count": 8,
   "id": "f68b581a",
   "metadata": {},
   "outputs": [],
   "source": [
    "import random"
   ]
  },
  {
   "cell_type": "code",
   "execution_count": 7,
   "id": "0331cdba",
   "metadata": {},
   "outputs": [],
   "source": [
    "def generate_caty(n=100, a=0.5, b=1, cats=[\"rouge\", \"vert\", \"bleu\"]):\n",
    "    res = []\n",
    "    for i in range(0, n):\n",
    "        x = random.randint(0,2)\n",
    "        cat = cats[x]\n",
    "        res.append((cat, 10*x**2*a + b + random.gauss(0,1)))\n",
    "        \n",
    "    return res"
   ]
  },
  {
   "cell_type": "code",
   "execution_count": 9,
   "id": "2da154a9",
   "metadata": {},
   "outputs": [
    {
     "data": {
      "text/plain": [
       "[('bleu', 20.811114549176946),\n",
       " ('rouge', 0.2601175645774494),\n",
       " ('rouge', 0.41017209362724594),\n",
       " ('vert', 6.6237061088962825),\n",
       " ('vert', 5.198308884804547),\n",
       " ('rouge', -0.3623775869062522),\n",
       " ('vert', 8.522424899291167),\n",
       " ('vert', 7.447112803327004),\n",
       " ('vert', 6.609531476419688),\n",
       " ('vert', 5.380269876915381)]"
      ]
     },
     "execution_count": 9,
     "metadata": {},
     "output_type": "execute_result"
    }
   ],
   "source": [
    "generate_caty(10)"
   ]
  },
  {
   "cell_type": "markdown",
   "id": "e6d0aa0f",
   "metadata": {},
   "source": [
    "### 5. Regression"
   ]
  },
  {
   "cell_type": "markdown",
   "id": "3a76e4d9",
   "metadata": {},
   "source": [
    "On voudrait quand même faire une régression de la variable $Y$ sur la variable catégorielle. On construit une fonction qui assigne un numéro quelconque mais distinct à chaque catégorie. La fonction retourne un dictionnaire avec les catégories comme clé et les numéros comme valeurs."
   ]
  },
  {
   "cell_type": "code",
   "execution_count": 10,
   "id": "9f980a10",
   "metadata": {},
   "outputs": [],
   "source": [
    "def numero_cat(obs):\n",
    "    mapping = {}\n",
    "    for color, y in obs:\n",
    "        if color not in mapping:\n",
    "            mapping[color] = len(mapping)\n",
    "            \n",
    "    return mapping"
   ]
  },
  {
   "cell_type": "code",
   "execution_count": 11,
   "id": "1ebeb060",
   "metadata": {},
   "outputs": [
    {
     "data": {
      "text/plain": [
       "{'rouge': 0, 'bleu': 1, 'vert': 2}"
      ]
     },
     "execution_count": 11,
     "metadata": {},
     "output_type": "execute_result"
    }
   ],
   "source": [
    "obs = generate_caty(100)\n",
    "\n",
    "numero_cat(obs)"
   ]
  },
  {
   "cell_type": "markdown",
   "id": "c3abc595",
   "metadata": {},
   "source": [
    "### 6. Matrice $M_{ic}$"
   ]
  },
  {
   "cell_type": "markdown",
   "id": "53a3a0dd",
   "metadata": {},
   "source": [
    "On construit la matrice $M_{ic}$ tel que : $M_{ic}$ vaut $1$ si c est le numéro de la catégorie $X_i$, $0$ sinon."
   ]
  },
  {
   "cell_type": "code",
   "execution_count": 13,
   "id": "17922e7b",
   "metadata": {},
   "outputs": [],
   "source": [
    "import numpy\n",
    "\n",
    "def construit_M(obs):\n",
    "    mapping = numero_cat(obs)\n",
    "    M = numpy.zeros((len(obs), 3))\n",
    "    for i, (color, y) in enumerate(obs):\n",
    "        cat = mapping[color]\n",
    "        M[i, cat] = 1.0\n",
    "    return M"
   ]
  },
  {
   "cell_type": "code",
   "execution_count": 14,
   "id": "99aa9e33",
   "metadata": {},
   "outputs": [
    {
     "data": {
      "text/plain": [
       "array([[1., 0., 0.],\n",
       "       [0., 1., 0.],\n",
       "       [1., 0., 0.],\n",
       "       [0., 0., 1.],\n",
       "       [1., 0., 0.]])"
      ]
     },
     "execution_count": 14,
     "metadata": {},
     "output_type": "execute_result"
    }
   ],
   "source": [
    "M = construit_M(obs)\n",
    "M[:5]"
   ]
  },
  {
   "cell_type": "markdown",
   "id": "b6868426",
   "metadata": {},
   "source": [
    "### 7. Matrice Y"
   ]
  },
  {
   "cell_type": "markdown",
   "id": "864a2e50",
   "metadata": {},
   "source": [
    "Il est conseillé de convertir la matrice $M$ et les $Y$ au format numpy. On ajoute un vecteur constant à la matrice $M$. La requête `numpy add column` sur un moteur de recherche vous directement à ce résultat : [**How to add an extra column to an numpy array**](https://stackoverflow.com/questions/8486294/how-do-i-add-an-extra-column-to-a-numpy-array)."
   ]
  },
  {
   "cell_type": "code",
   "execution_count": 15,
   "id": "ab3aaaf1",
   "metadata": {},
   "outputs": [],
   "source": [
    "def convert_numpy(obs):\n",
    "    M = construit_M(obs)\n",
    "    Mc = numpy.hstack([M, numpy.ones((M.shape[0], 1))])\n",
    "    Y = numpy.array([y for c, y in obs])\n",
    "    return M, Mc, Y.reshape((M.shape[0], 1))"
   ]
  },
  {
   "cell_type": "code",
   "execution_count": 16,
   "id": "bd36af74",
   "metadata": {},
   "outputs": [
    {
     "data": {
      "text/plain": [
       "(array([[1., 0., 0., 1.],\n",
       "        [0., 1., 0., 1.],\n",
       "        [1., 0., 0., 1.],\n",
       "        [0., 0., 1., 1.],\n",
       "        [1., 0., 0., 1.]]),\n",
       " array([[ 0.9650576 ],\n",
       "        [20.19226629],\n",
       "        [ 2.11220401],\n",
       "        [ 5.77190133],\n",
       "        [ 0.96008845]]))"
      ]
     },
     "execution_count": 16,
     "metadata": {},
     "output_type": "execute_result"
    }
   ],
   "source": [
    "M, Mc, Y = convert_numpy(obs)\n",
    "Mc[:5], Y[:5]"
   ]
  },
  {
   "cell_type": "markdown",
   "id": "bd56607e",
   "metadata": {},
   "source": [
    "### 8. Regression multidimensionnelle"
   ]
  },
  {
   "cell_type": "markdown",
   "id": "cea1e1fd",
   "metadata": {},
   "source": [
    "On résoud la régression multidimensionnelle en appliquant la formule $C^* = (M'M)^{-1}M'Y$. La question 7 ne servait pas à grand chose excepté faire découvrir la fonction `hstack` car le rang de la matrice $Mc$ est `3` < `4`."
   ]
  },
  {
   "cell_type": "code",
   "execution_count": 17,
   "id": "d6ee343e",
   "metadata": {},
   "outputs": [
    {
     "data": {
      "text/plain": [
       "array([[ 1.09064326],\n",
       "       [21.04949364],\n",
       "       [ 6.03043917]])"
      ]
     },
     "execution_count": 17,
     "metadata": {},
     "output_type": "execute_result"
    }
   ],
   "source": [
    "alpha = numpy.linalg.inv(M.T @ M) @ M.T @ Y\n",
    "alpha"
   ]
  },
  {
   "cell_type": "markdown",
   "id": "01bf2f2b",
   "metadata": {},
   "source": [
    "### 9. Vecteur de la Regression"
   ]
  },
  {
   "cell_type": "markdown",
   "id": "3f1644c1",
   "metadata": {},
   "source": [
    "La régression détermine les coefficients $\\alpha$ dans la régression $Y_i = \\alpha_{rouge} \\mathbf{1\\!\\!1}_{X_i = rouge} + \\alpha_{vert} \\mathbf{1\\!\\!1}_{X_i = vert} + \\alpha_{bleu} \\mathbf{1\\!\\!1}_{X_i = bleu} + \\epsilon_i$.\n",
    "\n",
    "Construire le vecteur $\\hat{Y_i} = \\alpha_{rouge} \\mathbf{1\\!\\!1}_{X_i = rouge} + \\alpha_{vert} \\mathbf{1\\!\\!1}_{X_i = vert} + \\alpha_{bleu} \\mathbf{1\\!\\!1}_{X_i = bleu}$."
   ]
  },
  {
   "cell_type": "code",
   "execution_count": 18,
   "id": "65f71ceb",
   "metadata": {},
   "outputs": [
    {
     "data": {
      "text/plain": [
       "array([[ 1.09064326],\n",
       "       [21.04949364],\n",
       "       [ 1.09064326],\n",
       "       [ 6.03043917],\n",
       "       [ 1.09064326]])"
      ]
     },
     "execution_count": 18,
     "metadata": {},
     "output_type": "execute_result"
    }
   ],
   "source": [
    "Yp = numpy.zeros((M.shape[0], 1))\n",
    "\n",
    "for i in range(3):\n",
    "    Yp[ M[:,i] == 1, 0] = alpha[i, 0]\n",
    "    \n",
    "Yp[:5]"
   ]
  },
  {
   "cell_type": "markdown",
   "id": "b7c3440e",
   "metadata": {},
   "source": [
    "### 10. Vecteur des coefficients "
   ]
  },
  {
   "cell_type": "code",
   "execution_count": 19,
   "id": "e76d59cc",
   "metadata": {},
   "outputs": [
    {
     "data": {
      "text/plain": [
       "(array([1.]), array([-8.8817842e-15]))"
      ]
     },
     "execution_count": 19,
     "metadata": {},
     "output_type": "execute_result"
    }
   ],
   "source": [
    "obs = [(x, y) for x, y in zip(Yp, Y)]\n",
    "calcule_ab( obs )"
   ]
  },
  {
   "cell_type": "markdown",
   "id": "7a3976e4",
   "metadata": {},
   "source": [
    "On aboutit au résultat $Y = \\hat{Y} + \\epsilon$. On a associé une valeur à chaque catégorie de telle sorte que la régression de $Y$ sur cette valeur soit cette valeur. Autrement dit, c’est la **meilleur approximation de Y sur chaque catégorie**. A quoi cela correspond-il ? C’est le second énoncé qui répond à cette question."
   ]
  },
  {
   "cell_type": "markdown",
   "id": "b218cae1",
   "metadata": {},
   "source": [
    "## Exercice 2"
   ]
  },
  {
   "cell_type": "markdown",
   "id": "d8da8711",
   "metadata": {},
   "source": [
    "### 1. Nuage de points"
   ]
  },
  {
   "cell_type": "code",
   "execution_count": 21,
   "id": "be268b57",
   "metadata": {},
   "outputs": [],
   "source": [
    "import random"
   ]
  },
  {
   "cell_type": "code",
   "execution_count": 20,
   "id": "4be4f85f",
   "metadata": {},
   "outputs": [],
   "source": [
    "def generate_xy(n=100, a=0.5, b=1):\n",
    "    res = []\n",
    "    for i in range(0, n):\n",
    "        x = random.uniform(0, 10)\n",
    "        res.append((x, x*a + b + random.gauss(0,1)))\n",
    "        \n",
    "    return res"
   ]
  },
  {
   "cell_type": "code",
   "execution_count": 23,
   "id": "0caaa1a1",
   "metadata": {},
   "outputs": [
    {
     "data": {
      "text/plain": [
       "[(5.11009010527384, 3.632014369964855),\n",
       " (7.0507183424317414, 4.308002633228412),\n",
       " (5.856953828673706, 2.279511231028116),\n",
       " (4.524854917882227, 1.986191110447013),\n",
       " (5.999355107240577, 2.894721034477197),\n",
       " (5.300995291610078, 3.615575559321312),\n",
       " (2.8985792983135203, 2.3299045312028035),\n",
       " (2.4970970481564714, 4.13689499633046),\n",
       " (6.1697010543766915, 4.004695536784815),\n",
       " (9.029745124136973, 4.978425360947978)]"
      ]
     },
     "execution_count": 23,
     "metadata": {},
     "output_type": "execute_result"
    }
   ],
   "source": [
    "generate_xy(10)"
   ]
  },
  {
   "cell_type": "markdown",
   "id": "243e2a22",
   "metadata": {},
   "source": [
    "### 2. Calcul de l'esperance"
   ]
  },
  {
   "cell_type": "markdown",
   "id": "e3ee4eb6",
   "metadata": {},
   "source": [
    "Ecrire une fonction qui calcule $\\mathbb{E} X, \\mathbb{E} Y, \\mathbb{E}(XY), \\mathbb{E}(X^2)$.</br>\n",
    "`obs` = résultat de la fonction précédente."
   ]
  },
  {
   "cell_type": "code",
   "execution_count": 24,
   "id": "a0eaf7fa",
   "metadata": {},
   "outputs": [],
   "source": [
    "def calcule_exyxyx2(obs):\n",
    "    sx = 0\n",
    "    sy = 0\n",
    "    sxy = 0\n",
    "    sx2 = 0\n",
    "    for x, y in obs:\n",
    "        sx += x\n",
    "        sy += y\n",
    "        sxy += x * y\n",
    "        sx2 += x * x\n",
    "    n = len(obs)\n",
    "    \n",
    "    return sx/n, sy/n, sxy/n, sx2/n"
   ]
  },
  {
   "cell_type": "code",
   "execution_count": 25,
   "id": "20bba673",
   "metadata": {},
   "outputs": [
    {
     "data": {
      "text/plain": [
       "(4.379486177890043, 3.6469888056971316, 17.45702767189654, 22.20018320698751)"
      ]
     },
     "execution_count": 25,
     "metadata": {},
     "output_type": "execute_result"
    }
   ],
   "source": [
    "obs = generate_xy(10)\n",
    "\n",
    "calcule_exyxyx2(obs)"
   ]
  },
  {
   "cell_type": "markdown",
   "id": "e5b6863b",
   "metadata": {},
   "source": [
    "### 3. Calcul des coefs"
   ]
  },
  {
   "cell_type": "markdown",
   "id": "170733f8",
   "metadata": {},
   "source": [
    "Calculer les grandeurs $a^*$, $b^*$. A priori, on doit retrouver quelque chose d’assez proche des valeurs choisies pour la première question : $a=0.5$, $b=1$."
   ]
  },
  {
   "cell_type": "code",
   "execution_count": 26,
   "id": "df029c32",
   "metadata": {},
   "outputs": [],
   "source": [
    "def calcule_ab(obs):\n",
    "    sx, sy, sxy, sx2 = calcule_exyxyx2(obs)\n",
    "    a = (sxy - sx * sx)  / (sx2 - sx**2)\n",
    "    b = sy - a * sx\n",
    "    return a, b"
   ]
  },
  {
   "cell_type": "code",
   "execution_count": 27,
   "id": "1d9e57a3",
   "metadata": {},
   "outputs": [
    {
     "data": {
      "text/plain": [
       "(-0.5704336070276463, 6.14519490307867)"
      ]
     },
     "execution_count": 27,
     "metadata": {},
     "output_type": "execute_result"
    }
   ],
   "source": [
    "calcule_ab(obs)"
   ]
  },
  {
   "cell_type": "markdown",
   "id": "ef8014eb",
   "metadata": {},
   "source": [
    "### 4. Loi Multinomiale"
   ]
  },
  {
   "cell_type": "markdown",
   "id": "a3ccb8f4",
   "metadata": {},
   "source": [
    "On va simuler une loi multinomiale est de partir d’une **loi uniforme et discrète à valeur dans entre $1$ et $10$**. On tire un nombre, s’il est inférieur ou égal à $5$, ce sera la catégorie $0$, $1$ si c’est inférieur à $8$, $2$ sinon."
   ]
  },
  {
   "cell_type": "code",
   "execution_count": 28,
   "id": "95baf702",
   "metadata": {},
   "outputs": [],
   "source": [
    "def generate_caty(n=100, a=0.5, b=1, cats=[\"rouge\", \"vert\", \"bleu\"]):\n",
    "    res = []\n",
    "    for i in range(0, n):\n",
    "        # on veut 50% de rouge, 30% de vert, 20% de bleu\n",
    "        x = random.randint(1, 10)\n",
    "        if x <= 5: x = 0\n",
    "        elif x <= 8: x = 1\n",
    "        else : x = 2\n",
    "        cat = cats[x]\n",
    "        res.append((cat, 10*x**2*a + b + random.gauss(0,1)))\n",
    "    return res"
   ]
  },
  {
   "cell_type": "code",
   "execution_count": 29,
   "id": "4987aa77",
   "metadata": {},
   "outputs": [
    {
     "data": {
      "text/plain": [
       "[('rouge', 2.337342914145855),\n",
       " ('rouge', 1.55148258645949),\n",
       " ('bleu', 19.049568247222407),\n",
       " ('vert', 4.41037809600245),\n",
       " ('rouge', 0.5575699793763214),\n",
       " ('rouge', 1.5802470680282303),\n",
       " ('vert', 7.016877520658216),\n",
       " ('vert', 4.8531401449009275),\n",
       " ('rouge', -0.10413089243197682),\n",
       " ('vert', 6.767519666681651)]"
      ]
     },
     "execution_count": 29,
     "metadata": {},
     "output_type": "execute_result"
    }
   ],
   "source": [
    "obs = generate_caty(10)\n",
    "obs"
   ]
  },
  {
   "cell_type": "markdown",
   "id": "e4e4ae1e",
   "metadata": {},
   "source": [
    "### 5. Histogramme"
   ]
  },
  {
   "cell_type": "markdown",
   "id": "6746f946",
   "metadata": {},
   "source": [
    "On voudrait quand même faire une régression de la variable $Y$ sur la **variable catégorielle**. On commence par les compter.</br> Construire une fonction qui compte le nombre de fois qu’une catégorie est présente dans les données (un **histogramme**)."
   ]
  },
  {
   "cell_type": "code",
   "execution_count": 31,
   "id": "2c2118e1",
   "metadata": {},
   "outputs": [],
   "source": [
    "def histogram_cat(obs):\n",
    "    h = dict()\n",
    "    for color, y in obs:\n",
    "        h[color] = h.get(color, 0) + 1\n",
    "    return h"
   ]
  },
  {
   "cell_type": "code",
   "execution_count": 32,
   "id": "ffc97a74",
   "metadata": {},
   "outputs": [
    {
     "data": {
      "text/plain": [
       "{'rouge': 5, 'bleu': 1, 'vert': 4}"
      ]
     },
     "execution_count": 32,
     "metadata": {},
     "output_type": "execute_result"
    }
   ],
   "source": [
    "histogram_cat(obs)"
   ]
  },
  {
   "cell_type": "markdown",
   "id": "ec1256dc",
   "metadata": {},
   "source": [
    "### 6. Moyennes"
   ]
  },
  {
   "cell_type": "markdown",
   "id": "7ed78246",
   "metadata": {},
   "source": [
    "Construire une fonction qui calcule la moyenne des $Y_i$ pour chaque catégorie : $\\mathbb{E}(Y | rouge)$, $\\mathbb{E}(Y | vert)$, $\\mathbb{E}(Y | bleu)$.</br> La fonction retourne un **dictionnaire {couleur:moyenne}**."
   ]
  },
  {
   "cell_type": "code",
   "execution_count": 33,
   "id": "e453e7e7",
   "metadata": {},
   "outputs": [],
   "source": [
    "def moyenne_cat(obs):\n",
    "    h = dict()\n",
    "    sy = dict()\n",
    "    for color, y in obs:\n",
    "        h[color] = h.get(color, 0) + 1\n",
    "        sy[color] = sy.get(color, 0) + y\n",
    "    for k, v in h.items():\n",
    "        sy[k] /= v\n",
    "    return sy"
   ]
  },
  {
   "cell_type": "code",
   "execution_count": 34,
   "id": "d15c4b13",
   "metadata": {},
   "outputs": [
    {
     "data": {
      "text/plain": [
       "{'rouge': 1.184502331115584,\n",
       " 'bleu': 19.049568247222407,\n",
       " 'vert': 5.761978857060811}"
      ]
     },
     "execution_count": 34,
     "metadata": {},
     "output_type": "execute_result"
    }
   ],
   "source": [
    "moyenne_cat(obs)"
   ]
  },
  {
   "cell_type": "markdown",
   "id": "eac26d4e",
   "metadata": {},
   "source": [
    "### 7. Vecteur de Regression"
   ]
  },
  {
   "cell_type": "markdown",
   "id": "b6d441e9",
   "metadata": {},
   "source": [
    "Construire le vecteur $Z_i = \\mathbb{E}(Y | rouge)\\mathbf{1\\!\\!1}_{X_i = rouge} + \\mathbb{E}(Y | vert) \\mathbf{1\\!\\!1}_{X_i = vert} + \\mathbb{E}(Y | bleu) \\mathbf{1\\!\\!1}_{X_i = bleu}$."
   ]
  },
  {
   "cell_type": "code",
   "execution_count": 35,
   "id": "72c59b7b",
   "metadata": {},
   "outputs": [
    {
     "data": {
      "text/plain": [
       "[1.184502331115584,\n",
       " 1.184502331115584,\n",
       " 19.049568247222407,\n",
       " 5.761978857060811,\n",
       " 1.184502331115584]"
      ]
     },
     "execution_count": 35,
     "metadata": {},
     "output_type": "execute_result"
    }
   ],
   "source": [
    "moys = moyenne_cat(obs)\n",
    "Z = [moys[c] for c, y in obs]\n",
    "Z[:5]"
   ]
  },
  {
   "cell_type": "markdown",
   "id": "3ba4d519",
   "metadata": {},
   "source": [
    "### 8.Vecteur de coefficients"
   ]
  },
  {
   "cell_type": "markdown",
   "id": "0ba41d3c",
   "metadata": {},
   "source": [
    "On utilise le résultat de la **question 3** pour calculer les coefficients de la régression $Y_i = a^* Z_i + b^*$."
   ]
  },
  {
   "cell_type": "code",
   "execution_count": 36,
   "id": "4e3b20fb",
   "metadata": {},
   "outputs": [
    {
     "data": {
      "text/plain": [
       "(1.0000000000000002, 0.0)"
      ]
     },
     "execution_count": 36,
     "metadata": {},
     "output_type": "execute_result"
    }
   ],
   "source": [
    "obs2 = [(z, y) for (c, y), z in zip(obs, Z)]\n",
    "calcule_ab( obs2 )"
   ]
  },
  {
   "cell_type": "markdown",
   "id": "0bc4f163",
   "metadata": {},
   "source": [
    "On aboutit au résultat $Y = \\hat{Y} + \\epsilon$. On a associé une valeur à chaque catégorie de telle sorte que la régression de $Y$ sur cette valeur soit cette valeur."
   ]
  },
  {
   "cell_type": "markdown",
   "id": "60aa90f6",
   "metadata": {},
   "source": [
    "### 9. Matrice de Variance/Covariance"
   ]
  },
  {
   "cell_type": "markdown",
   "id": "0bd15670",
   "metadata": {},
   "source": [
    "On calcule la **matrice de variance / covariance** pour les variables $(Y_i)$, $(Z_i)$, $(Y_i - Z_i)$, $\\mathbf{1\\!\\!1}_{X_i = rouge}$, $\\mathbf{1\\!\\!1}_{X_i = vert}$, $\\mathbf{1\\!\\!1}_{X_i = bleu}$."
   ]
  },
  {
   "cell_type": "code",
   "execution_count": 37,
   "id": "0d20839b",
   "metadata": {},
   "outputs": [
    {
     "data": {
      "text/plain": [
       "array([[ 2.33734291,  1.18450233,  1.15284058,  1.        ,  0.        ,\n",
       "         0.        ],\n",
       "       [ 1.55148259,  1.18450233,  0.36698026,  1.        ,  0.        ,\n",
       "         0.        ],\n",
       "       [19.04956825, 19.04956825,  0.        ,  0.        ,  0.        ,\n",
       "         1.        ],\n",
       "       [ 4.4103781 ,  5.76197886, -1.35160076,  0.        ,  1.        ,\n",
       "         0.        ],\n",
       "       [ 0.55756998,  1.18450233, -0.62693235,  1.        ,  0.        ,\n",
       "         0.        ]])"
      ]
     },
     "execution_count": 37,
     "metadata": {},
     "output_type": "execute_result"
    }
   ],
   "source": [
    "bigM = numpy.empty((len(obs), 6))\n",
    "bigM[:, 0] = [o[1] for o in obs]\n",
    "bigM[:, 1] = Z\n",
    "bigM[:, 2] = bigM[:, 0] - bigM[:, 1]\n",
    "bigM[:, 3] = [ 1 if o[0] == \"rouge\" else 0 for o in obs]\n",
    "bigM[:, 4] = [ 1 if o[0] == \"vert\" else 0 for o in obs]\n",
    "bigM[:, 5] = [ 1 if o[0] == \"bleu\" else 0 for o in obs]\n",
    "bigM[:5]"
   ]
  },
  {
   "cell_type": "markdown",
   "id": "9ea411b6",
   "metadata": {},
   "source": [
    "On utilise la fonction [np.cov](https://numpy.org/doc/stable/reference/generated/numpy.cov.html)"
   ]
  },
  {
   "cell_type": "code",
   "execution_count": 38,
   "id": "268ca0ce",
   "metadata": {},
   "outputs": [
    {
     "data": {
      "text/plain": [
       "array([[ 3.12248367e+01,  3.02345428e+01,  9.90293886e-01,\n",
       "        -2.00972067e+00,  4.26657477e-01,  1.58306319e+00],\n",
       "       [ 3.02345428e+01,  3.02345428e+01,  2.35294310e-16,\n",
       "        -2.00972067e+00,  4.26657477e-01,  1.58306319e+00],\n",
       "       [ 9.90293886e-01,  2.35294310e-16,  9.90293886e-01,\n",
       "        -7.40148683e-17,  1.15942957e-16, -1.72735535e-17],\n",
       "       [-2.00972067e+00, -2.00972067e+00, -7.40148683e-17,\n",
       "         2.77777778e-01, -2.22222222e-01, -5.55555556e-02],\n",
       "       [ 4.26657477e-01,  4.26657477e-01,  1.15942957e-16,\n",
       "        -2.22222222e-01,  2.66666667e-01, -4.44444444e-02],\n",
       "       [ 1.58306319e+00,  1.58306319e+00, -1.72735535e-17,\n",
       "        -5.55555556e-02, -4.44444444e-02,  1.00000000e-01]])"
      ]
     },
     "execution_count": 38,
     "metadata": {},
     "output_type": "execute_result"
    }
   ],
   "source": [
    "c = numpy.cov(bigM.T)\n",
    "c"
   ]
  },
  {
   "cell_type": "markdown",
   "id": "5d163161",
   "metadata": {},
   "source": [
    "On affiche un peu mieux les résultats :"
   ]
  },
  {
   "cell_type": "code",
   "execution_count": 39,
   "id": "3749d0b9",
   "metadata": {},
   "outputs": [
    {
     "data": {
      "text/html": [
       "<div>\n",
       "<style scoped>\n",
       "    .dataframe tbody tr th:only-of-type {\n",
       "        vertical-align: middle;\n",
       "    }\n",
       "\n",
       "    .dataframe tbody tr th {\n",
       "        vertical-align: top;\n",
       "    }\n",
       "\n",
       "    .dataframe thead th {\n",
       "        text-align: right;\n",
       "    }\n",
       "</style>\n",
       "<table border=\"1\" class=\"dataframe\">\n",
       "  <thead>\n",
       "    <tr style=\"text-align: right;\">\n",
       "      <th></th>\n",
       "      <th>0</th>\n",
       "      <th>1</th>\n",
       "      <th>2</th>\n",
       "      <th>3</th>\n",
       "      <th>4</th>\n",
       "      <th>5</th>\n",
       "    </tr>\n",
       "  </thead>\n",
       "  <tbody>\n",
       "    <tr>\n",
       "      <th>0</th>\n",
       "      <td>31.225</td>\n",
       "      <td>30.235</td>\n",
       "      <td>0.990</td>\n",
       "      <td>-2.010</td>\n",
       "      <td>0.427</td>\n",
       "      <td>1.583</td>\n",
       "    </tr>\n",
       "    <tr>\n",
       "      <th>1</th>\n",
       "      <td>30.235</td>\n",
       "      <td>30.235</td>\n",
       "      <td>0.000</td>\n",
       "      <td>-2.010</td>\n",
       "      <td>0.427</td>\n",
       "      <td>1.583</td>\n",
       "    </tr>\n",
       "    <tr>\n",
       "      <th>2</th>\n",
       "      <td>0.990</td>\n",
       "      <td>0.000</td>\n",
       "      <td>0.990</td>\n",
       "      <td>-0.000</td>\n",
       "      <td>0.000</td>\n",
       "      <td>-0.000</td>\n",
       "    </tr>\n",
       "    <tr>\n",
       "      <th>3</th>\n",
       "      <td>-2.010</td>\n",
       "      <td>-2.010</td>\n",
       "      <td>-0.000</td>\n",
       "      <td>0.278</td>\n",
       "      <td>-0.222</td>\n",
       "      <td>-0.056</td>\n",
       "    </tr>\n",
       "    <tr>\n",
       "      <th>4</th>\n",
       "      <td>0.427</td>\n",
       "      <td>0.427</td>\n",
       "      <td>0.000</td>\n",
       "      <td>-0.222</td>\n",
       "      <td>0.267</td>\n",
       "      <td>-0.044</td>\n",
       "    </tr>\n",
       "    <tr>\n",
       "      <th>5</th>\n",
       "      <td>1.583</td>\n",
       "      <td>1.583</td>\n",
       "      <td>-0.000</td>\n",
       "      <td>-0.056</td>\n",
       "      <td>-0.044</td>\n",
       "      <td>0.100</td>\n",
       "    </tr>\n",
       "  </tbody>\n",
       "</table>\n",
       "</div>"
      ],
      "text/plain": [
       "        0       1       2       3       4       5\n",
       "0  31.225  30.235   0.990  -2.010   0.427   1.583\n",
       "1  30.235  30.235   0.000  -2.010   0.427   1.583\n",
       "2   0.990   0.000   0.990  -0.000   0.000  -0.000\n",
       "3  -2.010  -2.010  -0.000   0.278  -0.222  -0.056\n",
       "4   0.427   0.427   0.000  -0.222   0.267  -0.044\n",
       "5   1.583   1.583  -0.000  -0.056  -0.044   0.100"
      ]
     },
     "execution_count": 39,
     "metadata": {},
     "output_type": "execute_result"
    }
   ],
   "source": [
    "import pandas\n",
    "pandas.DataFrame(c).applymap(lambda x: '%1.3f' % x)"
   ]
  },
  {
   "cell_type": "markdown",
   "id": "847b007b",
   "metadata": {},
   "source": [
    "### 10. Construction des vecteurs de coefficients"
   ]
  },
  {
   "cell_type": "markdown",
   "id": "6dbcf907",
   "metadata": {},
   "source": [
    "On permute **rouge** et **vert**. Construire le vecteur $W_i = \\mathbb{E}(Y | rouge)\\mathbf{1\\!\\!1}_{X_i = vert} + \\mathbb{E}(Y | vert)\\mathbf{1\\!\\!1}_{X_i = rouge} + \\mathbb{E}(Y | bleu)\\mathbf{1\\!\\!1}_{X_i = bleu}$.\n",
    "\n",
    "Utiliser le résultat de la **question 3** pour calculer les **coefficients de la régression** $Y_i = a^* W_i + b^*$. Vérifiez que l’erreur est supérieure."
   ]
  },
  {
   "cell_type": "code",
   "execution_count": 40,
   "id": "069ac9ad",
   "metadata": {},
   "outputs": [],
   "source": [
    "moys = moyenne_cat(obs)\n",
    "moys[\"rouge\"], moys[\"vert\"] = moys.get(\"vert\", 0), moys.get(\"rouge\", 0)"
   ]
  },
  {
   "cell_type": "code",
   "execution_count": 41,
   "id": "293bd818",
   "metadata": {},
   "outputs": [
    {
     "data": {
      "text/plain": [
       "(0.5726657616009273, 1.7899224051777747)"
      ]
     },
     "execution_count": 41,
     "metadata": {},
     "output_type": "execute_result"
    }
   ],
   "source": [
    "W = [moys[c] for c, y in obs]\n",
    "obs3 = [(w, y) for (c, y), w in zip(obs, W)]\n",
    "calcule_ab( obs3 )"
   ]
  },
  {
   "cell_type": "code",
   "execution_count": 42,
   "id": "1e88b4f1",
   "metadata": {},
   "outputs": [],
   "source": [
    "def calcule_erreur(obs):\n",
    "    a, b = calcule_ab(obs)\n",
    "    e = [(a*x + b - y)**2 for x, y in obs]\n",
    "    return sum(e) / len(obs)"
   ]
  },
  {
   "cell_type": "code",
   "execution_count": 43,
   "id": "4d3e8568",
   "metadata": {},
   "outputs": [
    {
     "data": {
      "text/plain": [
       "(0.8912644970701278, 16.88869380547872)"
      ]
     },
     "execution_count": 43,
     "metadata": {},
     "output_type": "execute_result"
    }
   ],
   "source": [
    "calcule_erreur(obs2), calcule_erreur(obs3)"
   ]
  },
  {
   "cell_type": "markdown",
   "id": "138e1e54",
   "metadata": {},
   "source": [
    "C’est supérieur."
   ]
  },
  {
   "cell_type": "markdown",
   "id": "56004229",
   "metadata": {},
   "source": [
    "### Conclusion"
   ]
  },
  {
   "cell_type": "markdown",
   "id": "7a194f75",
   "metadata": {},
   "source": [
    "L’[analyse des correspondances multiples](https://fr.wikipedia.org/wiki/Analyse_des_correspondances_multiples) est une façon d’étudier les modalités de variables catégorielles mais cela ne fait pas de la prédiction. Le modèle [logit - probit](https://fr.wikipedia.org/wiki/Mod%C3%A8le_probit) prédit une variable binaire à partir de variables continue mais dans notre cas, c’est la variable à prédire qui est continue. Pour effectuer une prédiction, il convertit les catégories en variables numériques (voir [Categorical Variables](https://en.wikipedia.org/wiki/Categorical_variable)). Le langage R est plus outillé pour cela : [Regression on categorical variables](https://www.r-bloggers.com/2013/01/regression-on-categorical-variables/). Le module [categorical-encoding](https://github.com/scikit-learn-contrib/category_encoders) est disponible en python. Cet examen décrit une méthode parmi d’autres pour transformer les catégories en variables continues."
   ]
  },
  {
   "cell_type": "code",
   "execution_count": null,
   "id": "7c4f4d26",
   "metadata": {},
   "outputs": [],
   "source": []
  }
 ],
 "metadata": {
  "kernelspec": {
   "display_name": "Python 3 (ipykernel)",
   "language": "python",
   "name": "python3"
  },
  "language_info": {
   "codemirror_mode": {
    "name": "ipython",
    "version": 3
   },
   "file_extension": ".py",
   "mimetype": "text/x-python",
   "name": "python",
   "nbconvert_exporter": "python",
   "pygments_lexer": "ipython3",
   "version": "3.8.13"
  }
 },
 "nbformat": 4,
 "nbformat_minor": 5
}
