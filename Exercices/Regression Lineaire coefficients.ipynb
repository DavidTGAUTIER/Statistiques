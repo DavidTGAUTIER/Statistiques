{
 "cells": [
  {
   "cell_type": "markdown",
   "id": "8f0fc4a7",
   "metadata": {},
   "source": [
    "## Calcul de Coefficients Regression Lineaires"
   ]
  },
  {
   "cell_type": "markdown",
   "id": "f928b1bd",
   "metadata": {},
   "source": [
    "Algorithme pour calculer les coefficients d’une régression quantile et par extension d’une médiane dans un espace à plusieurs dimensions."
   ]
  },
  {
   "cell_type": "markdown",
   "id": "b52b4062",
   "metadata": {},
   "source": [
    "$X$ et $Y$ désignent des vecteurs colonnes.</br>\n",
    "$\\beta$ désigne un vecteur ligne</br>\n",
    "$W$ une matrice diagonale."
   ]
  },
  {
   "cell_type": "markdown",
   "id": "d0b9c22a",
   "metadata": {},
   "source": [
    "### 1. Module `random`"
   ]
  },
  {
   "cell_type": "markdown",
   "id": "0fb6ddd6",
   "metadata": {},
   "source": [
    "Générer un ensemble de points aléatoires."
   ]
  },
  {
   "cell_type": "code",
   "execution_count": 1,
   "id": "8b84e154",
   "metadata": {},
   "outputs": [
    {
     "data": {
      "text/plain": [
       "[1000, 66, 92, 28, 51, 81, 46, 1, 36, 63]"
      ]
     },
     "execution_count": 1,
     "metadata": {},
     "output_type": "execute_result"
    }
   ],
   "source": [
    "import random\n",
    "\n",
    "def ensemble_aleatoire(n):\n",
    "    res = [random.randint(0, 100) for i in range(n)]\n",
    "    res[0] = 1000\n",
    "    return res\n",
    "\n",
    "ens = ensemble_aleatoire(10)\n",
    "ens"
   ]
  },
  {
   "cell_type": "markdown",
   "id": "6f0c6441",
   "metadata": {},
   "source": [
    "### 2. Mediane"
   ]
  },
  {
   "cell_type": "markdown",
   "id": "cd53e2a4",
   "metadata": {},
   "source": [
    "La médiane d’un ensemble de points $\\left\\{X_1, ..., X_n\\right\\}$ est une valeur $X_M$ telle que :\n",
    "\n",
    "$$\\sum_i \\mathbf{1\\!\\!1}_{X_i < X_m} = \\sum_i \\mathbf{1\\!\\!1}_{X_i > X_m}$$\n",
    "\n",
    "Autrement dit, il y a autant de valeurs inférieures que supérieures à $X_M$. On obtient cette valeur en triant les éléments par ordre croissant et en prenant celui du milieu."
   ]
  },
  {
   "cell_type": "code",
   "execution_count": 2,
   "id": "12979afe",
   "metadata": {},
   "outputs": [
    {
     "data": {
      "text/plain": [
       "63"
      ]
     },
     "execution_count": 2,
     "metadata": {},
     "output_type": "execute_result"
    }
   ],
   "source": [
    "def mediane(ensemble):\n",
    "    tri = list(sorted(ensemble))\n",
    "    return tri[len(tri)//2]\n",
    "\n",
    "mediane(ens)"
   ]
  },
  {
   "cell_type": "markdown",
   "id": "a532479f",
   "metadata": {},
   "source": [
    "### 3. Mediane modifiée"
   ]
  },
  {
   "cell_type": "markdown",
   "id": "9f2b9d98",
   "metadata": {},
   "source": [
    "Lorsque le nombre de points est pair, la médiane peut être n’importe quelle valeur dans un intervalle.</br>\n",
    "Modifier votre fonction de façon à ce que la fonction précédente retourne le milieu de la fonction."
   ]
  },
  {
   "cell_type": "code",
   "execution_count": 3,
   "id": "0879d430",
   "metadata": {},
   "outputs": [
    {
     "data": {
      "text/plain": [
       "57.0"
      ]
     },
     "execution_count": 3,
     "metadata": {},
     "output_type": "execute_result"
    }
   ],
   "source": [
    "def mediane(ensemble):\n",
    "    tri = list(sorted(ensemble))\n",
    "    if len(tri) % 2 == 0:\n",
    "        m = len(tri)//2\n",
    "        return (tri[m] + tri[m-1]) / 2\n",
    "    else:\n",
    "        return tri[len(tri)//2]\n",
    "\n",
    "mediane(ens)"
   ]
  },
  {
   "cell_type": "markdown",
   "id": "3cd4101f",
   "metadata": {},
   "source": [
    "### 4. Derivée de X"
   ]
  },
  {
   "cell_type": "markdown",
   "id": "21da955a",
   "metadata": {},
   "source": [
    "Pour un ensemble de points $E=\\left\\{X_1, ..., X_n\\right\\}$, on considère la fonction suivante :\n",
    "\n",
    "$$f(x) = \\sum_{i=1}^n \\left | x - X_i\\right |$$\n",
    "\n",
    "On suppose que la médiane $X_M$ de l’ensemble $E$ n’appartient pas à $E$ : $X_M \\notin E$.\n",
    "    \n",
    "Que vaut $f'(X_M)$ ? On acceptera le fait que la médiane est le seul point dans ce cas.\n",
    "\n",
    "#### $$f'(X_m) = - \\sum_{i=1}^n \\mathbf{1\\!\\!1}_{X_i < X_m} + \\sum_{i=1}^n \\mathbf{1\\!\\!1}_{X_i > X_m}$$\n",
    "\n",
    "Par définition de la médiane, $f'(X_M)=0$. En triant les éléments, on montre que la $f'(x) = 0 \\Longleftrightarrow x=X_m$."
   ]
  },
  {
   "cell_type": "markdown",
   "id": "74f2190f",
   "metadata": {},
   "source": [
    "### 5. Vecteur beta"
   ]
  },
  {
   "cell_type": "markdown",
   "id": "69c72aad",
   "metadata": {},
   "source": [
    "On suppose qu’on dispose d’un ensemble d’observations $\\left(X_i, Y_i\\right)$ avec $X_i$, $Y_i \\in \\mathbb{R}$. La régression linéaire consiste une relation linéaire $Y_i = a X_i + b + \\epsilon_i$ qui **minimise la variance du bruit**. On pose :\n",
    "\n",
    "$$E(a, b) = \\sum_i \\left(Y_i - (a X_i + b)\\right)^2$$\n",
    "\n",
    "On cherche $a$, $b$ tels que :\n",
    "\n",
    "$$a^*, b^* = \\arg \\min E(a, b) = \\arg \\min \\sum_i \\left(Y_i - (a X_i + b)\\right)^2$$\n",
    "\n",
    "La fonction est dérivable et on trouve :\n",
    "\n",
    "$$\\frac{\\partial E(a,b)}{\\partial a} = - 2 \\sum_i X_i ( Y_i - (a X_i + b)) \\text{ et } \\frac{\\partial E(a,b)}{\\partial b} = - 2 \\sum_i ( Y_i - (a X_i + b))$$\n",
    "\n",
    "Il suffit alors d’annuler les dérivées. On résoud un système d’équations linéaires. On note :\n",
    "\n",
    "$$\\begin{array}{l} \\mathbb{E} X = \\frac{1}{n}\\sum_{i=1}^n X_i \\text{ et } \\mathbb{E} Y = \\frac{1}{n}\\sum_{i=1}^n Y_i \\\\ \\mathbb{E}{X^2} = \\frac{1}{n}\\sum_{i=1}^n X_i^2 \\text{ et } \\mathbb{E} {XY} = \\frac{1}{n}\\sum_{i=1}^n X_i Y_i \\end{array}$$\n",
    "\n",
    "Finalement :\n",
    "\n",
    "$$\\begin{array}{l} a^* = \\frac{ \\mathbb{E} {XY} - \\mathbb{E} X \\mathbb{E} Y}{\\mathbb{E}{X^2} - (\\mathbb{E} X)^2} \\text{ et } b^* = \\mathbb{E} Y - a^* \\mathbb{E} X \\end{array}$$\n",
    "\n",
    "Lorsqu’on a plusieurs dimensions pour $X$, on écrit le problème d’optimisation, on cherche les coefficients $\\beta^*$ qui minimisent :\n",
    "\n",
    "$$E(\\beta)=\\sum_{i=1}^n \\left(y_i - X_i \\beta\\right)^2 = \\left \\Vert Y - X\\beta \\right \\Vert ^2$$\n",
    "\n",
    "La solution est : \n",
    "\n",
    "$$\\beta^* = (X'X)^{-1}X'Y$$.\n",
    "\n",
    "Ecrire une fonction qui calcule ce vecteur optimal."
   ]
  },
  {
   "cell_type": "code",
   "execution_count": 4,
   "id": "aac3c45a",
   "metadata": {},
   "outputs": [
    {
     "data": {
      "text/plain": [
       "array([[1.00142116]])"
      ]
     },
     "execution_count": 4,
     "metadata": {},
     "output_type": "execute_result"
    }
   ],
   "source": [
    "from numpy.linalg import inv\n",
    "\n",
    "def regression_lineaire(X, Y):\n",
    "    t = X.T\n",
    "    return inv(t @ X) @ t @ Y\n",
    "\n",
    "import numpy\n",
    "X = numpy.array(ens).reshape((len(ens), 1))\n",
    "\n",
    "# test pour check si la valeur n'est pas aberrante\n",
    "regression_lineaire(X, X+1)   "
   ]
  },
  {
   "cell_type": "markdown",
   "id": "1f88f9e8",
   "metadata": {},
   "source": [
    "### 6. Matrice diagonale"
   ]
  },
  {
   "cell_type": "markdown",
   "id": "5629a87a",
   "metadata": {},
   "source": [
    "Ecrire une fonction qui transforme un vecteur en une matrice diagonale."
   ]
  },
  {
   "cell_type": "code",
   "execution_count": 5,
   "id": "8d6f794f",
   "metadata": {},
   "outputs": [
    {
     "data": {
      "text/plain": [
       "array([[1, 0, 0],\n",
       "       [0, 2, 0],\n",
       "       [0, 0, 3]])"
      ]
     },
     "execution_count": 5,
     "metadata": {},
     "output_type": "execute_result"
    }
   ],
   "source": [
    "def matrice_diagonale(W):\n",
    "    return numpy.diag(W)\n",
    "\n",
    "matrice_diagonale([1, 2, 3])"
   ]
  },
  {
   "cell_type": "markdown",
   "id": "8eeb4f0f",
   "metadata": {},
   "source": [
    "### 7. Matrice de regression pondérée"
   ]
  },
  {
   "cell_type": "markdown",
   "id": "9bc1d8c9",
   "metadata": {},
   "source": [
    "On considère maintenant que chaque observation est pondérée par un poids $w_i$. On veut maintenant trouver le vecteur $\\beta$ qui minimise :\n",
    "\n",
    "$$E(\\beta)=\\sum_{i=1}^n w_i \\left( y_i - X_i \\beta \\right)^2 = \\left \\Vert W^{\\frac{1}{2}}(Y - X\\beta)\\right \\Vert^2$$\n",
    "\n",
    "Où $W=diag(w_1, ..., w_n)$ est la matrice diagonale. La solution est :\n",
    "\n",
    "$$\\beta_* = (X'WX)^{-1}X'WY$$\n",
    "\n",
    "Ecrire une fonction qui calcule la solution de la régression pondérée (La fonction ravel est utile)."
   ]
  },
  {
   "cell_type": "code",
   "execution_count": 6,
   "id": "17aa139c",
   "metadata": {},
   "outputs": [],
   "source": [
    "def regression_lineaire_ponderee(X, Y, W):\n",
    "    if len(W.shape) == 1 or W.shape[0] != W.shape[1]:\n",
    "        # c'est un vecteur\n",
    "        W = matrice_diagonale(W.ravel())\n",
    "        \n",
    "    wx = W @ X\n",
    "    xt = X.T\n",
    "    \n",
    "    return inv(xt @ wx) @ xt @ W @ Y"
   ]
  },
  {
   "cell_type": "code",
   "execution_count": 7,
   "id": "c5500dee",
   "metadata": {},
   "outputs": [
    {
     "data": {
      "text/plain": [
       "(array([[1.]]), array([[1.00096976]]))"
      ]
     },
     "execution_count": 7,
     "metadata": {},
     "output_type": "execute_result"
    }
   ],
   "source": [
    "X = numpy.array(sorted(ens)).reshape((len(ens), 1))\n",
    "Y = X.copy()\n",
    "Y[0] = max(X)\n",
    "W = numpy.ones(len(ens))\n",
    "W[0] = 0\n",
    "regression_lineaire_ponderee(X, Y, W), regression_lineaire(X, Y)"
   ]
  },
  {
   "cell_type": "markdown",
   "id": "e9ed7f1f",
   "metadata": {},
   "source": [
    "### 8. Fonctions max, reciproques"
   ]
  },
  {
   "cell_type": "markdown",
   "id": "aa922eb9",
   "metadata": {},
   "source": [
    "Ecrire une fonction qui calcule les quantités suivantes (fonctions [reciproque](https://numpy.org/doc/stable/reference/generated/numpy.reciprocal.html), [maximum](https://numpy.org/doc/stable/reference/generated/numpy.maximum.html))"
   ]
  },
  {
   "cell_type": "markdown",
   "id": "854f4f12",
   "metadata": {},
   "source": [
    "$$z_i = \\frac{1}{\\max(\\sigma |y_i - X_i\\beta|)}$$"
   ]
  },
  {
   "cell_type": "code",
   "execution_count": 10,
   "id": "d552b25d",
   "metadata": {},
   "outputs": [],
   "source": [
    "def calcule_z(X, beta, Y, W, delta=0.0001):\n",
    "    epsilon = numpy.abs(Y - X @ beta)\n",
    "    return numpy.reciprocal(numpy.maximum(epsilon, numpy.ones(epsilon.shape) * delta))"
   ]
  },
  {
   "cell_type": "code",
   "execution_count": 11,
   "id": "f671ed5d",
   "metadata": {},
   "outputs": [
    {
     "data": {
      "text/plain": [
       "array([[1.00101102e-03],\n",
       "       [3.57142857e+00],\n",
       "       [2.77777778e+00],\n",
       "       [2.17391304e+00],\n",
       "       [1.96078431e+00],\n",
       "       [1.58730159e+00],\n",
       "       [1.51515152e+00],\n",
       "       [1.23456790e+00],\n",
       "       [1.08695652e+00],\n",
       "       [1.00000000e-01]])"
      ]
     },
     "execution_count": 11,
     "metadata": {},
     "output_type": "execute_result"
    }
   ],
   "source": [
    "calcule_z(X * 1.0, numpy.array([[1.01]]), Y, W)"
   ]
  },
  {
   "cell_type": "markdown",
   "id": "f271effd",
   "metadata": {},
   "source": [
    "### 9. Codage de l'algorithme "
   ]
  },
  {
   "cell_type": "markdown",
   "id": "857566fc",
   "metadata": {},
   "source": [
    "On souhaite coder l’algorithme suivant :\n",
    "\n",
    "1. $w_i^{(1)} = 1$\n",
    "\n",
    "2. $\\beta_{(t)} = (X'W^{(t)}X)^{-1}X'W^{(t)}Y$\n",
    "\n",
    "3. $w_i^{(t+1)} = \\frac{1}{\\max\\left( \\delta, \\left|y_i - X_i \\beta^{(t)}\\right|\\right)}$\n",
    "\n",
    "4. $t = t+1$\n",
    "\n",
    "\n",
    "5. Retour à l’étape 2."
   ]
  },
  {
   "cell_type": "code",
   "execution_count": 12,
   "id": "5b1f30c7",
   "metadata": {},
   "outputs": [],
   "source": [
    "def algorithm(X, Y, delta=0.0001):\n",
    "    W = numpy.ones(X.shape[0])\n",
    "    \n",
    "    for i in range(0, 10):\n",
    "        beta = regression_lineaire_ponderee(X, Y, W)\n",
    "        W = calcule_z(X, beta, Y, W, delta=delta)\n",
    "        E = numpy.abs(Y - X @ beta).sum()\n",
    "        print(i, E, beta)\n",
    "        \n",
    "    return beta"
   ]
  },
  {
   "cell_type": "code",
   "execution_count": 13,
   "id": "33397cf0",
   "metadata": {},
   "outputs": [
    {
     "name": "stdout",
     "output_type": "stream",
     "text": [
      "0 147.00577125582032 [[17.45956329]]\n",
      "1 108.48937453480733 [[5.58302859]]\n",
      "2 105.21282050915539 [[4.27360453]]\n",
      "3 104.78437688161772 [[3.98931339]]\n",
      "4 104.39631611249858 [[3.73181805]]\n",
      "5 104.26992269551974 [[3.61895534]]\n",
      "6 104.26143644862076 [[3.59924946]]\n",
      "7 104.25141484984752 [[3.57597835]]\n",
      "8 104.24095695453524 [[3.55169411]]\n",
      "9 104.2314071731347 [[3.52951861]]\n"
     ]
    },
    {
     "data": {
      "text/plain": [
       "array([[3.52951861]])"
      ]
     },
     "execution_count": 13,
     "metadata": {},
     "output_type": "execute_result"
    }
   ],
   "source": [
    "X = numpy.random.rand(10, 1)\n",
    "Y = X*2 + numpy.random.rand()\n",
    "\n",
    "Y[0] = Y[0] + 100\n",
    "algorithm(X, Y)"
   ]
  },
  {
   "cell_type": "markdown",
   "id": "5de213e9",
   "metadata": {},
   "source": [
    "### 10. Algorithme "
   ]
  },
  {
   "cell_type": "code",
   "execution_count": 14,
   "id": "c44c38cc",
   "metadata": {},
   "outputs": [
    {
     "data": {
      "text/plain": [
       "57.0"
      ]
     },
     "execution_count": 14,
     "metadata": {},
     "output_type": "execute_result"
    }
   ],
   "source": [
    "ens = ensemble_aleatoire(10)\n",
    "Y = numpy.empty((len(ens), 1))\n",
    "Y[:,0] = ens\n",
    "X = numpy.ones((len(ens), 1))\n",
    "mediane(ens)"
   ]
  },
  {
   "cell_type": "code",
   "execution_count": 15,
   "id": "0b205279",
   "metadata": {},
   "outputs": [
    {
     "data": {
      "text/plain": [
       "array([146.8])"
      ]
     },
     "execution_count": 15,
     "metadata": {},
     "output_type": "execute_result"
    }
   ],
   "source": [
    "Y.mean(axis=0)"
   ]
  },
  {
   "cell_type": "code",
   "execution_count": 16,
   "id": "8c5dc5de",
   "metadata": {},
   "outputs": [
    {
     "data": {
      "text/plain": [
       "array([[146.8]])"
      ]
     },
     "execution_count": 16,
     "metadata": {},
     "output_type": "execute_result"
    }
   ],
   "source": [
    "regression_lineaire(X, Y)"
   ]
  },
  {
   "cell_type": "code",
   "execution_count": 17,
   "id": "be1f1e06",
   "metadata": {},
   "outputs": [
    {
     "name": "stdout",
     "output_type": "stream",
     "text": [
      "0 1706.3999999999999 [[146.8]]\n",
      "1 1081.7531338731296 [[66.43828347]]\n",
      "2 1074.6995224508144 [[64.34976123]]\n",
      "3 1073.1101046641663 [[63.55505233]]\n",
      "4 1070.791609508834 [[62.39580475]]\n",
      "5 1068.4632729306418 [[61.23163647]]\n",
      "6 1068.0 [[60.84711933]]\n",
      "7 1068.0 [[60.84711933]]\n",
      "8 1068.0 [[60.84711933]]\n",
      "9 1068.0 [[60.84711933]]\n"
     ]
    },
    {
     "data": {
      "text/plain": [
       "array([[60.84711933]])"
      ]
     },
     "execution_count": 17,
     "metadata": {},
     "output_type": "execute_result"
    }
   ],
   "source": [
    "algorithm(X,Y)"
   ]
  },
  {
   "cell_type": "code",
   "execution_count": 18,
   "id": "7ffc2daf",
   "metadata": {},
   "outputs": [
    {
     "data": {
      "text/plain": [
       "57.0"
      ]
     },
     "execution_count": 18,
     "metadata": {},
     "output_type": "execute_result"
    }
   ],
   "source": [
    "mediane(ens)"
   ]
  },
  {
   "cell_type": "code",
   "execution_count": 19,
   "id": "035e727d",
   "metadata": {},
   "outputs": [
    {
     "data": {
      "text/plain": [
       "[2, 45, 47, 53, 53, 61, 65, 68, 74, 1000]"
      ]
     },
     "execution_count": 19,
     "metadata": {},
     "output_type": "execute_result"
    }
   ],
   "source": [
    "list(sorted(ens))"
   ]
  },
  {
   "cell_type": "markdown",
   "id": "865162ce",
   "metadata": {},
   "source": [
    "La régression linéaire égale la moyenne, l’algorithme s’approche de la médiane."
   ]
  },
  {
   "cell_type": "markdown",
   "id": "936a13d7",
   "metadata": {},
   "source": [
    "#### Quelques explications et démonstrations"
   ]
  },
  {
   "cell_type": "markdown",
   "id": "a86a2588",
   "metadata": {},
   "source": [
    "Cet énoncé est inspiré de [Iteratively reweighted least squares](https://en.wikipedia.org/wiki/Iteratively_reweighted_least_squares). Cet algorithme permet notamment d’étendre la notion de médiane à des espaces vectoriels de plusieurs dimensions. On peut détermine un point $X_M$ qui minimise la quantité :\n",
    "\n",
    "$\\sum_{i=1}^n \\left| X_i - X_M \\right |$\n",
    "\n",
    "Nous reprenons l’algorithme décrit ci-dessus :\n",
    "\n",
    "1. $w_i^{(1)} = 1$\n",
    "\n",
    "2. $\\beta_{(t)} = (X'W^{(t)}X)^{-1}X'W^{(t)}Y$\n",
    "\n",
    "3. $w_i^{(t+1)} = \\frac{1}{\\max\\left( \\delta, \\left|y_i - X_i \\beta^{(t)}\\right|\\right)}$\n",
    "\n",
    "4. $t = t+1$\n",
    "\n",
    "5. Retour à l’étape 2.\n",
    "\n",
    "L’erreur quadratique pondéré est :\n",
    "\n",
    "$E_2(\\beta, W) = \\sum_{i=1}^n w_i \\left\\Vert Y_i - X_i \\beta \\right\\Vert^2$\n",
    "\n",
    "$Si w_i = \\frac{1}{\\left|y_i - X_i \\beta\\right|}$, on remarque que :\n",
    "\n",
    "$E_2(\\beta, W) = \\sum_{i=1}^n \\frac{\\left\\Vert Y_i - X_i \\beta \\right\\Vert^2}{\\left|y_i - X_i \\beta\\right|} = \\sum_{i=1}^n \\left|y_i - X_i \\beta\\right| = E_1(\\beta)$\n",
    "\n",
    "On retombe sur l’erreur en valeur absolue optimisée par la régression quantile. Comme l’étape 2 consiste à trouver les coefficients $\\beta$ qui minimise $E_2(\\beta, W^{(t)})$, par construction, il ressort que :\n",
    "\n",
    "$E_1(\\beta^{(t+1)}) = E_2(\\beta^{(t+1)}, W^{(t)}) \\leqslant E_2(\\beta^{(t)}, W^{(t)}) = E_1(\\beta^{(t)})$\n",
    "\n",
    "La suite $t \\rightarrow E_1(\\beta^{(t)})$ est suite décroissant est minorée par $0$. Elle converge donc vers un minimum. Or la fonction $\\beta \\rightarrow E_1(\\beta)$ est une **fonction convexe**. Elle n’admet qu’un seul minimum (mais pas nécessaire un seul point atteignant ce minimum). L’algorithme converge donc vers la médiane. Le paramètre $\\delta$ est là pour éviter les erreurs de divisions par zéros et les approximations de calcul faites par l’ordinateur."
   ]
  },
  {
   "cell_type": "markdown",
   "id": "29653973",
   "metadata": {},
   "source": [
    "### Quelques commentaires sur le code"
   ]
  },
  {
   "cell_type": "markdown",
   "id": "c1e0d598",
   "metadata": {},
   "source": [
    "Le symbol [@](https://www.python.org/dev/peps/pep-0465/) a été introduit par Python 3.5 et est équivalent à la fonction `numpy.dot`. Les dimensions des matrices posent souvent quelques problèmes."
   ]
  },
  {
   "cell_type": "code",
   "execution_count": 20,
   "id": "538cbbbf",
   "metadata": {},
   "outputs": [
    {
     "data": {
      "text/plain": [
       "((3, 2), (3,))"
      ]
     },
     "execution_count": 20,
     "metadata": {},
     "output_type": "execute_result"
    }
   ],
   "source": [
    "import numpy\n",
    "y = numpy.array([1, 2, 3])\n",
    "M = numpy.array([[3, 4], [6, 7], [3, 3]])\n",
    "M.shape, y.shape"
   ]
  },
  {
   "cell_type": "code",
   "execution_count": 21,
   "id": "1b821535",
   "metadata": {},
   "outputs": [
    {
     "name": "stdout",
     "output_type": "stream",
     "text": [
      "matmul: Input operand 1 has a mismatch in its core dimension 0, with gufunc signature (n?,k),(k,m?)->(n?,m?) (size 3 is different from 2)\n"
     ]
    }
   ],
   "source": [
    "try:\n",
    "    M @ y\n",
    "except Exception as e:\n",
    "    print(e)"
   ]
  },
  {
   "cell_type": "raw",
   "id": "cec3fdd3",
   "metadata": {},
   "source": [
    "shapes (3,2) and (3,) not aligned: 2 (dim 1) != 3 (dim 0)"
   ]
  },
  {
   "cell_type": "markdown",
   "id": "152a4311",
   "metadata": {},
   "source": [
    "Par défaut, numpy considère un vecteur de taille (3,) comme un vecteur ligne (3,1). Donc l’expression suivante va marcher :"
   ]
  },
  {
   "cell_type": "code",
   "execution_count": 22,
   "id": "516e37fc",
   "metadata": {},
   "outputs": [
    {
     "data": {
      "text/plain": [
       "array([24, 27])"
      ]
     },
     "execution_count": 22,
     "metadata": {},
     "output_type": "execute_result"
    }
   ],
   "source": [
    "y @ M"
   ]
  },
  {
   "cell_type": "markdown",
   "id": "fdd73be8",
   "metadata": {},
   "source": [
    "Ou :"
   ]
  },
  {
   "cell_type": "code",
   "execution_count": 23,
   "id": "83266725",
   "metadata": {},
   "outputs": [
    {
     "data": {
      "text/plain": [
       "array([24, 27])"
      ]
     },
     "execution_count": 23,
     "metadata": {},
     "output_type": "execute_result"
    }
   ],
   "source": [
    "M.T @ y"
   ]
  }
 ],
 "metadata": {
  "kernelspec": {
   "display_name": "Python 3 (ipykernel)",
   "language": "python",
   "name": "python3"
  },
  "language_info": {
   "codemirror_mode": {
    "name": "ipython",
    "version": 3
   },
   "file_extension": ".py",
   "mimetype": "text/x-python",
   "name": "python",
   "nbconvert_exporter": "python",
   "pygments_lexer": "ipython3",
   "version": "3.8.13"
  }
 },
 "nbformat": 4,
 "nbformat_minor": 5
}
