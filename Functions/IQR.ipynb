{
 "cells": [
  {
   "cell_type": "code",
   "execution_count": 5,
   "id": "a157226d",
   "metadata": {},
   "outputs": [],
   "source": [
    "import numpy as np"
   ]
  },
  {
   "cell_type": "code",
   "execution_count": 16,
   "id": "be0f308d",
   "metadata": {},
   "outputs": [
    {
     "data": {
      "text/plain": [
       "array([ 83,  82,  10,  49,  42, -17,   4,  69,   1,  15,  30,  27,  55,\n",
       "        92,  89,  12,  76,   8,  68,  12,  -9,  98,  74,  32,  87])"
      ]
     },
     "execution_count": 16,
     "metadata": {},
     "output_type": "execute_result"
    }
   ],
   "source": [
    "x = np.random.randint(low=-20, high=100, size=25)\n",
    "x"
   ]
  },
  {
   "cell_type": "code",
   "execution_count": 17,
   "id": "c9fb500f",
   "metadata": {},
   "outputs": [],
   "source": [
    "def IQR(dist):\n",
    "    return np.percentile(dist, 75) - np.percentile(dist, 25)"
   ]
  },
  {
   "cell_type": "code",
   "execution_count": 18,
   "id": "6104cc25",
   "metadata": {},
   "outputs": [
    {
     "data": {
      "text/plain": [
       "64.0"
      ]
     },
     "execution_count": 18,
     "metadata": {},
     "output_type": "execute_result"
    }
   ],
   "source": [
    "q75, q25 = np.percentile(x, [75 ,25])\n",
    "iqr = q75 - q25\n",
    "iqr"
   ]
  },
  {
   "cell_type": "code",
   "execution_count": 22,
   "id": "c4383637",
   "metadata": {},
   "outputs": [
    {
     "data": {
      "text/plain": [
       "42"
      ]
     },
     "execution_count": 22,
     "metadata": {},
     "output_type": "execute_result"
    }
   ],
   "source": [
    "n = len(x) // 2\n",
    "med = sorted(x)[n] \n",
    "med"
   ]
  },
  {
   "cell_type": "code",
   "execution_count": 24,
   "id": "217198cb",
   "metadata": {},
   "outputs": [
    {
     "data": {
      "text/plain": [
       "42.0"
      ]
     },
     "execution_count": 24,
     "metadata": {},
     "output_type": "execute_result"
    }
   ],
   "source": [
    "np.median(x)"
   ]
  },
  {
   "cell_type": "code",
   "execution_count": 25,
   "id": "aedc22c0",
   "metadata": {},
   "outputs": [
    {
     "data": {
      "text/plain": [
       "64.0"
      ]
     },
     "execution_count": 25,
     "metadata": {},
     "output_type": "execute_result"
    }
   ],
   "source": [
    "iqr2 = np.subtract(*np.percentile(x, [75, 25]))\n",
    "iqr2"
   ]
  },
  {
   "cell_type": "code",
   "execution_count": 27,
   "id": "bd431481",
   "metadata": {},
   "outputs": [
    {
     "name": "stdout",
     "output_type": "stream",
     "text": [
      "56.4 µs ± 951 ns per loop (mean ± std. dev. of 7 runs, 10,000 loops each)\n",
      "59.7 µs ± 323 ns per loop (mean ± std. dev. of 7 runs, 10,000 loops each)\n",
      "143 µs ± 1.48 µs per loop (mean ± std. dev. of 7 runs, 10,000 loops each)\n"
     ]
    }
   ],
   "source": [
    "x = np.random.randint(1e6)\n",
    "\n",
    "%timeit q75, q25 = np.percentile(x, [75 ,25]); iqr = q75 - q25\n",
    "\n",
    "%timeit iqr = np.subtract(*np.percentile(x, [75, 25]))\n",
    "\n",
    "%timeit iqr = np.percentile(x, 75) - np.percentile(x, 25)"
   ]
  },
  {
   "cell_type": "code",
   "execution_count": null,
   "id": "00b6d1fe",
   "metadata": {},
   "outputs": [],
   "source": [
    "iqr = df[col].apply(np.quantile, q=[0.25, 0.75])\n",
    "\n",
    "out = df[((iqr.iloc[0] >= df[col])\n",
    "         & (df[col] <= iqr.iloc[1])).all(axis=1)]"
   ]
  }
 ],
 "metadata": {
  "kernelspec": {
   "display_name": "Python 3 (ipykernel)",
   "language": "python",
   "name": "python3"
  },
  "language_info": {
   "codemirror_mode": {
    "name": "ipython",
    "version": 3
   },
   "file_extension": ".py",
   "mimetype": "text/x-python",
   "name": "python",
   "nbconvert_exporter": "python",
   "pygments_lexer": "ipython3",
   "version": "3.8.13"
  }
 },
 "nbformat": 4,
 "nbformat_minor": 5
}
