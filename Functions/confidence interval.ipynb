{
 "cells": [
  {
   "cell_type": "markdown",
   "id": "f9b850f0",
   "metadata": {},
   "source": [
    "### Confidence Intervals"
   ]
  },
  {
   "cell_type": "code",
   "execution_count": 4,
   "id": "ea30ac3c",
   "metadata": {},
   "outputs": [],
   "source": [
    "def confidence_intervals(df, target_name, predicateur_name):\n",
    "    # import\n",
    "    import statsmodels.formula.api as smf\n",
    "    from statsmodels.stats.outliers_influence import summary_table\n",
    "    from statsmodels.sandbox.regression.predstd import wls_prediction_std\n",
    "    import matplotlib.pyplot as plt\n",
    "    \n",
    "    target, predicateur = target_name, predicateur_name\n",
    "    res = smf.ols(f'{target} ~ {predicateur}', data=df).fit()\n",
    "    st, data, ss2 = summary_table(res, alpha=0.05)\n",
    "    \n",
    "    fitted_value = data[:,2]\n",
    "    mean_predicted_se = data[:,3]\n",
    "    mean_predicted_ci_low, mean_predicted_ci_upp = data[:,4:6].T\n",
    "    predicted_ci_low, predicted_ci_upp = data[:, 6:8].T\n",
    "    \n",
    "    predstd, interval_l, interval_u = wls_prediction_std(res)\n",
    "    \n",
    "    plt.figure(figsize=(12,10))\n",
    "    \n",
    "    ci_low = plt.plot(df[predicateur], predicted_ci_low, 'r--', lw=1, alpha=0.5, label = 'Intervalle de confiance : prediction')\n",
    "    ci_upper = plt.plot(df[predicateur], predicted_ci_upp, 'r--', lw=1, alpha=0.5)\n",
    "    mean_ci_lower = plt.plot(df[predicateur], mean_predicted_ci_low, 'b--', lw=1, alpha=0.5, label = 'Intervalle de confiance : mean')\n",
    "    mean_ci_upper = plt.plot(df[predicateur], mean_predicted_ci_upp, 'b--', lw=1, alpha=0.5)\n",
    "    \n",
    "    plt.scatter(df[predicateur], df[target])\n",
    "    plt.xlabel(predicateur)\n",
    "    plt.ylabel(target)\n",
    "    plt.legend()\n",
    "    plt.show()\n",
    "    \n",
    "    plt.figure(figsize=(12,4))\n",
    "    plt.hist(mean_predicted_se, bins=20)\n",
    "    plt.title('Standard Error pour les Intervalles de Confiance');"
   ]
  },
  {
   "cell_type": "code",
   "execution_count": 5,
   "id": "a4d401d6",
   "metadata": {},
   "outputs": [],
   "source": [
    "# Residual Squared Error\n",
    "\n",
    "def RSE(df, y, y_pred):\n",
    "    RSS = np.sum((y - y_pred)**2)\n",
    "    RSE = np.sqrt((1 / (len(df) - 2)) * RSS)\n",
    "    return RSE"
   ]
  },
  {
   "cell_type": "code",
   "execution_count": 7,
   "id": "37b427f6",
   "metadata": {},
   "outputs": [],
   "source": [
    "# import statsmodels.formula.api as smf\n",
    "# target, predicateur = target_name, predicateur_name\n",
    "# res = smf.ols(f'{target} ~ {predicateur}', data=df).fit()\n",
    "\n",
    "# https://www.real-statistics.com/regression/confidence-and-prediction-intervals/\n",
    "\n",
    "# create function to compute confidence or prediction interval given an x value\n",
    "\n",
    "def create_interval(ols_result, interval_type, alpha, x_values, conf_x):\n",
    "    if interval_type == 'confidence':\n",
    "        add_one = 0\n",
    "    elif interval_type == 'prediction':\n",
    "        add_one = 1\n",
    "    else:\n",
    "        print(\"Choose interval_type as confidence or prediction\")\n",
    "        return\n",
    "    n = len(x_values)\n",
    "    t_value = stats.t.ppf(1 - alpha / 2, df = n - 2)\n",
    "    RSE = np.sqrt((ols_result.resid ** 2).sum() / (n - 2))\n",
    "    numerator = (conf_x - x_values.mean()) ** 2\n",
    "    denominator = ((x_values - x_values.mean()) ** 2).sum()\n",
    "    interval = t_value * RSE * np.sqrt(add_one + 1 / n + numerator / denominator)\n",
    "    prediction = res.params[0] + res.params[1] * conf_x\n",
    "    return (prediction - interval, prediction + interval)"
   ]
  },
  {
   "cell_type": "code",
   "execution_count": null,
   "id": "0b75002d",
   "metadata": {},
   "outputs": [],
   "source": []
  }
 ],
 "metadata": {
  "kernelspec": {
   "display_name": "Python 3 (ipykernel)",
   "language": "python",
   "name": "python3"
  },
  "language_info": {
   "codemirror_mode": {
    "name": "ipython",
    "version": 3
   },
   "file_extension": ".py",
   "mimetype": "text/x-python",
   "name": "python",
   "nbconvert_exporter": "python",
   "pygments_lexer": "ipython3",
   "version": "3.8.13"
  }
 },
 "nbformat": 4,
 "nbformat_minor": 5
}
