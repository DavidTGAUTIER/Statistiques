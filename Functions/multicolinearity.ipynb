{
 "cells": [
  {
   "cell_type": "code",
   "execution_count": 11,
   "id": "58f96600",
   "metadata": {},
   "outputs": [],
   "source": [
    "import numpy as np\n",
    "import pandas as pd\n",
    "from statsmodels.stats.outliers_influence import variance_inflation_factor"
   ]
  },
  {
   "cell_type": "raw",
   "id": "40e502fe",
   "metadata": {},
   "source": [
    "Warnings:\n",
    "[1] The condition number is large, 1.59e+05. This might indicate that there are\n",
    "strong multicollinearity or other numerical problems."
   ]
  },
  {
   "cell_type": "markdown",
   "id": "988f2251",
   "metadata": {},
   "source": [
    "On peut détecter une **multi-colinéarité élevée** en inspectant les **valeurs propres** de la **matrice de corrélation** .</br>\n",
    "\n",
    "Une **valeur propre très faible** montre que **les données** sont **colinéaires** et le **vecteur propre** correspondant montre **quelles variables** sont **colinéaires**.\n",
    "\n",
    "S'il n'y a **pas de colinéarité** dans les données, vous vous attendez à ce qu'**aucune des valeurs propres ne soit proche de zéro** :"
   ]
  },
  {
   "cell_type": "code",
   "execution_count": 2,
   "id": "5974600a",
   "metadata": {},
   "outputs": [
    {
     "data": {
      "text/plain": [
       "array([1.25035526, 1.16360646, 0.96242211, 0.83303485, 0.79058131])"
      ]
     },
     "execution_count": 2,
     "metadata": {},
     "output_type": "execute_result"
    }
   ],
   "source": [
    "xs = np.random.randn(100, 5)      # independent variables\n",
    "corr = np.corrcoef(xs, rowvar=0)  # correlation matrix\n",
    "w, v = np.linalg.eig(corr)        # eigen values & eigen vectors\n",
    "w"
   ]
  },
  {
   "cell_type": "markdown",
   "id": "94a87b2e",
   "metadata": {},
   "source": [
    " si `x[4] - 2 * x[0] - 3 * x[2] = 0`, alors :"
   ]
  },
  {
   "cell_type": "code",
   "execution_count": 3,
   "id": "fb4f07eb",
   "metadata": {},
   "outputs": [
    {
     "data": {
      "text/plain": [
       "array([2.13920931, 0.00789703, 0.83317357, 0.96395779, 1.0557623 ])"
      ]
     },
     "execution_count": 3,
     "metadata": {},
     "output_type": "execute_result"
    }
   ],
   "source": [
    "noise = np.random.randn(100)                      # white noise\n",
    "xs[:,4] = 2 * xs[:,0] + 3 * xs[:,2] + .5 * noise  # collinearity\n",
    "corr = np.corrcoef(xs, rowvar=0)\n",
    "w, v = np.linalg.eig(corr)\n",
    "w"
   ]
  },
  {
   "cell_type": "markdown",
   "id": "7bbcead1",
   "metadata": {},
   "source": [
    "l'une des **valeurs propres** (ici la deuxième), est **proche de zéro**. Le **vecteur propre** correspondant est :"
   ]
  },
  {
   "cell_type": "code",
   "execution_count": 4,
   "id": "bc3c4782",
   "metadata": {},
   "outputs": [
    {
     "data": {
      "text/plain": [
       "array([-0.40198747, -0.0070834 , -0.55639467, -0.00220252,  0.72716987])"
      ]
     },
     "execution_count": 4,
     "metadata": {},
     "output_type": "execute_result"
    }
   ],
   "source": [
    "v[:,1]"
   ]
  },
  {
   "cell_type": "markdown",
   "id": "943e87b3",
   "metadata": {},
   "source": [
    "Ignorant les coefficients presque nuls , `x[0]`, `x[2]` et `x[4]` sont **colinéaires** (comme prévu).</br>\n",
    "\n",
    "Si l'on **normalise** les **valeurs de `xs`** et que l'on multiplie par ce **vecteur propre**, le résultat oscillera **autour de zéro avec une petite variance** "
   ]
  },
  {
   "cell_type": "code",
   "execution_count": 6,
   "id": "b41b757f",
   "metadata": {},
   "outputs": [
    {
     "data": {
      "text/plain": [
       "(-2.1371793224034264e-17, 0.00789703035618233)"
      ]
     },
     "execution_count": 6,
     "metadata": {},
     "output_type": "execute_result"
    }
   ],
   "source": [
    "std_xs = (xs - xs.mean(axis=0)) / xs.std(axis=0)  # standardized values\n",
    "ys = std_xs.dot(v[:,1])\n",
    "ys.mean(), ys.var()"
   ]
  },
  {
   "cell_type": "markdown",
   "id": "a45d73ca",
   "metadata": {},
   "source": [
    "Notez que `ys.var()` c'est essentiellement la **valeur propre qui était proche de zéro**.\n",
    "\n",
    "Ainsi, afin de capturer une **multi-linéarité élevée**, regardez les **valeurs propres de la matrice de corrélation**."
   ]
  },
  {
   "cell_type": "markdown",
   "id": "d00b0a13",
   "metadata": {},
   "source": [
    "### Methode VIF : Variance Inflation Factor"
   ]
  },
  {
   "cell_type": "markdown",
   "id": "e13e804e",
   "metadata": {},
   "source": [
    "En statistique , le facteur d'inflation de la variance ( VIF ) est le rapport ( quotient ) de la variance de l'estimation d'un paramètre dans un modèle qui comprend plusieurs autres termes (paramètres) par la variance d'un modèle construit à l'aide d'un seul terme. [1] Il quantifie la sévérité de la multicolinéarité dans une analyse de régression des moindres carrés ordinaires. Il fournit un indice qui mesure dans quelle mesure la variance (le carré de l' écart type de l'estimation) d'un coefficient de régression estimé est augmentée en raison de la colinéarité."
   ]
  },
  {
   "cell_type": "code",
   "execution_count": 1,
   "id": "15ad1865",
   "metadata": {},
   "outputs": [
    {
     "name": "stdout",
     "output_type": "stream",
     "text": [
      "C:\\Users\\david\\STATISTIQUES\\Fonctions utils\\datasets\n"
     ]
    }
   ],
   "source": [
    "cd C:\\Users\\david\\STATISTIQUES\\Fonctions utils\\datasets"
   ]
  },
  {
   "cell_type": "code",
   "execution_count": 2,
   "id": "cc6d4e11",
   "metadata": {},
   "outputs": [
    {
     "data": {
      "text/plain": [
       "'C:\\\\Users\\\\david\\\\STATISTIQUES\\\\Fonctions utils\\\\datasets'"
      ]
     },
     "execution_count": 2,
     "metadata": {},
     "output_type": "execute_result"
    }
   ],
   "source": [
    "pwd"
   ]
  },
  {
   "cell_type": "code",
   "execution_count": 5,
   "id": "52858216",
   "metadata": {},
   "outputs": [
    {
     "data": {
      "text/html": [
       "<div>\n",
       "<style scoped>\n",
       "    .dataframe tbody tr th:only-of-type {\n",
       "        vertical-align: middle;\n",
       "    }\n",
       "\n",
       "    .dataframe tbody tr th {\n",
       "        vertical-align: top;\n",
       "    }\n",
       "\n",
       "    .dataframe thead th {\n",
       "        text-align: right;\n",
       "    }\n",
       "</style>\n",
       "<table border=\"1\" class=\"dataframe\">\n",
       "  <thead>\n",
       "    <tr style=\"text-align: right;\">\n",
       "      <th></th>\n",
       "      <th>Gender</th>\n",
       "      <th>Height</th>\n",
       "      <th>Weight</th>\n",
       "      <th>Index</th>\n",
       "    </tr>\n",
       "  </thead>\n",
       "  <tbody>\n",
       "    <tr>\n",
       "      <th>0</th>\n",
       "      <td>Male</td>\n",
       "      <td>174</td>\n",
       "      <td>96</td>\n",
       "      <td>4</td>\n",
       "    </tr>\n",
       "    <tr>\n",
       "      <th>1</th>\n",
       "      <td>Male</td>\n",
       "      <td>189</td>\n",
       "      <td>87</td>\n",
       "      <td>2</td>\n",
       "    </tr>\n",
       "    <tr>\n",
       "      <th>2</th>\n",
       "      <td>Female</td>\n",
       "      <td>185</td>\n",
       "      <td>110</td>\n",
       "      <td>4</td>\n",
       "    </tr>\n",
       "    <tr>\n",
       "      <th>3</th>\n",
       "      <td>Female</td>\n",
       "      <td>195</td>\n",
       "      <td>104</td>\n",
       "      <td>3</td>\n",
       "    </tr>\n",
       "    <tr>\n",
       "      <th>4</th>\n",
       "      <td>Male</td>\n",
       "      <td>149</td>\n",
       "      <td>61</td>\n",
       "      <td>3</td>\n",
       "    </tr>\n",
       "  </tbody>\n",
       "</table>\n",
       "</div>"
      ],
      "text/plain": [
       "   Gender  Height  Weight  Index\n",
       "0    Male     174      96      4\n",
       "1    Male     189      87      2\n",
       "2  Female     185     110      4\n",
       "3  Female     195     104      3\n",
       "4    Male     149      61      3"
      ]
     },
     "execution_count": 5,
     "metadata": {},
     "output_type": "execute_result"
    }
   ],
   "source": [
    "bmi = pd.read_csv('BMI.csv')\n",
    "bmi.head()"
   ]
  },
  {
   "cell_type": "code",
   "execution_count": 6,
   "id": "20a57ef8",
   "metadata": {},
   "outputs": [],
   "source": [
    "bmi.Gender = bmi.Gender.map({'Male' : 0, 'Female' : 1})"
   ]
  },
  {
   "cell_type": "code",
   "execution_count": 7,
   "id": "7732e877",
   "metadata": {},
   "outputs": [
    {
     "data": {
      "text/html": [
       "<div>\n",
       "<style scoped>\n",
       "    .dataframe tbody tr th:only-of-type {\n",
       "        vertical-align: middle;\n",
       "    }\n",
       "\n",
       "    .dataframe tbody tr th {\n",
       "        vertical-align: top;\n",
       "    }\n",
       "\n",
       "    .dataframe thead th {\n",
       "        text-align: right;\n",
       "    }\n",
       "</style>\n",
       "<table border=\"1\" class=\"dataframe\">\n",
       "  <thead>\n",
       "    <tr style=\"text-align: right;\">\n",
       "      <th></th>\n",
       "      <th>Gender</th>\n",
       "      <th>Height</th>\n",
       "      <th>Weight</th>\n",
       "      <th>Index</th>\n",
       "    </tr>\n",
       "  </thead>\n",
       "  <tbody>\n",
       "    <tr>\n",
       "      <th>0</th>\n",
       "      <td>0</td>\n",
       "      <td>174</td>\n",
       "      <td>96</td>\n",
       "      <td>4</td>\n",
       "    </tr>\n",
       "    <tr>\n",
       "      <th>1</th>\n",
       "      <td>0</td>\n",
       "      <td>189</td>\n",
       "      <td>87</td>\n",
       "      <td>2</td>\n",
       "    </tr>\n",
       "    <tr>\n",
       "      <th>2</th>\n",
       "      <td>1</td>\n",
       "      <td>185</td>\n",
       "      <td>110</td>\n",
       "      <td>4</td>\n",
       "    </tr>\n",
       "    <tr>\n",
       "      <th>3</th>\n",
       "      <td>1</td>\n",
       "      <td>195</td>\n",
       "      <td>104</td>\n",
       "      <td>3</td>\n",
       "    </tr>\n",
       "    <tr>\n",
       "      <th>4</th>\n",
       "      <td>0</td>\n",
       "      <td>149</td>\n",
       "      <td>61</td>\n",
       "      <td>3</td>\n",
       "    </tr>\n",
       "  </tbody>\n",
       "</table>\n",
       "</div>"
      ],
      "text/plain": [
       "   Gender  Height  Weight  Index\n",
       "0       0     174      96      4\n",
       "1       0     189      87      2\n",
       "2       1     185     110      4\n",
       "3       1     195     104      3\n",
       "4       0     149      61      3"
      ]
     },
     "execution_count": 7,
     "metadata": {},
     "output_type": "execute_result"
    }
   ],
   "source": [
    "bmi.head()"
   ]
  },
  {
   "cell_type": "code",
   "execution_count": 8,
   "id": "7dd12c01",
   "metadata": {},
   "outputs": [],
   "source": [
    "X = bmi[['Gender', 'Height', 'Weight']]\n",
    "y = bmi.Index"
   ]
  },
  {
   "cell_type": "code",
   "execution_count": 9,
   "id": "2bf65036",
   "metadata": {},
   "outputs": [
    {
     "data": {
      "text/html": [
       "<div>\n",
       "<style scoped>\n",
       "    .dataframe tbody tr th:only-of-type {\n",
       "        vertical-align: middle;\n",
       "    }\n",
       "\n",
       "    .dataframe tbody tr th {\n",
       "        vertical-align: top;\n",
       "    }\n",
       "\n",
       "    .dataframe thead th {\n",
       "        text-align: right;\n",
       "    }\n",
       "</style>\n",
       "<table border=\"1\" class=\"dataframe\">\n",
       "  <thead>\n",
       "    <tr style=\"text-align: right;\">\n",
       "      <th></th>\n",
       "      <th>Features</th>\n",
       "    </tr>\n",
       "  </thead>\n",
       "  <tbody>\n",
       "    <tr>\n",
       "      <th>0</th>\n",
       "      <td>Gender</td>\n",
       "    </tr>\n",
       "    <tr>\n",
       "      <th>1</th>\n",
       "      <td>Height</td>\n",
       "    </tr>\n",
       "    <tr>\n",
       "      <th>2</th>\n",
       "      <td>Weight</td>\n",
       "    </tr>\n",
       "  </tbody>\n",
       "</table>\n",
       "</div>"
      ],
      "text/plain": [
       "  Features\n",
       "0   Gender\n",
       "1   Height\n",
       "2   Weight"
      ]
     },
     "execution_count": 9,
     "metadata": {},
     "output_type": "execute_result"
    }
   ],
   "source": [
    "vif_data = pd.DataFrame()\n",
    "vif_data['Features'] = X.columns\n",
    "vif_data.head()"
   ]
  },
  {
   "cell_type": "markdown",
   "id": "3d4196a3",
   "metadata": {},
   "source": [
    "Calculons VIF pour chaque feature"
   ]
  },
  {
   "cell_type": "code",
   "execution_count": 12,
   "id": "b8756a95",
   "metadata": {},
   "outputs": [
    {
     "data": {
      "text/html": [
       "<div>\n",
       "<style scoped>\n",
       "    .dataframe tbody tr th:only-of-type {\n",
       "        vertical-align: middle;\n",
       "    }\n",
       "\n",
       "    .dataframe tbody tr th {\n",
       "        vertical-align: top;\n",
       "    }\n",
       "\n",
       "    .dataframe thead th {\n",
       "        text-align: right;\n",
       "    }\n",
       "</style>\n",
       "<table border=\"1\" class=\"dataframe\">\n",
       "  <thead>\n",
       "    <tr style=\"text-align: right;\">\n",
       "      <th></th>\n",
       "      <th>Features</th>\n",
       "      <th>VIF</th>\n",
       "    </tr>\n",
       "  </thead>\n",
       "  <tbody>\n",
       "    <tr>\n",
       "      <th>0</th>\n",
       "      <td>Gender</td>\n",
       "      <td>2.028864</td>\n",
       "    </tr>\n",
       "    <tr>\n",
       "      <th>1</th>\n",
       "      <td>Height</td>\n",
       "      <td>11.623103</td>\n",
       "    </tr>\n",
       "    <tr>\n",
       "      <th>2</th>\n",
       "      <td>Weight</td>\n",
       "      <td>10.688377</td>\n",
       "    </tr>\n",
       "  </tbody>\n",
       "</table>\n",
       "</div>"
      ],
      "text/plain": [
       "  Features        VIF\n",
       "0   Gender   2.028864\n",
       "1   Height  11.623103\n",
       "2   Weight  10.688377"
      ]
     },
     "execution_count": 12,
     "metadata": {},
     "output_type": "execute_result"
    }
   ],
   "source": [
    "vif_data['VIF'] = [variance_inflation_factor(X.values, i) for i in range(len(X.columns))]\n",
    "vif_data"
   ]
  },
  {
   "cell_type": "markdown",
   "id": "72eebf25",
   "metadata": {},
   "source": [
    "la taille et le poids ont des valeurs très élevées de VIF, indiquant que ces deux variables sont fortement corrélées. Ceci est attendu car la taille d'une personne influence son poids. Par conséquent, considérer ces deux caractéristiques ensemble conduit à un modèle à forte multicolinéarité."
   ]
  },
  {
   "cell_type": "code",
   "execution_count": 13,
   "id": "1bc818d7",
   "metadata": {},
   "outputs": [
    {
     "data": {
      "text/plain": [
       "array([[  0, 174,  96],\n",
       "       [  0, 189,  87],\n",
       "       [  1, 185, 110],\n",
       "       ...,\n",
       "       [  1, 141, 136],\n",
       "       [  0, 150,  95],\n",
       "       [  0, 173, 131]], dtype=int64)"
      ]
     },
     "execution_count": 13,
     "metadata": {},
     "output_type": "execute_result"
    }
   ],
   "source": [
    "X.values"
   ]
  },
  {
   "attachments": {
    "image.png": {
     "image/png": "[encoded data removed]"
    }
   },
   "cell_type": "markdown",
   "id": "c3735632",
   "metadata": {},
   "source": [
    "![image.png](attachment:image.png)"
   ]
  },
  {
   "cell_type": "code",
   "execution_count": null,
   "id": "c3b4635e",
   "metadata": {},
   "outputs": [],
   "source": []
  }
 ],
 "metadata": {
  "kernelspec": {
   "display_name": "Python 3 (ipykernel)",
   "language": "python",
   "name": "python3"
  },
  "language_info": {
   "codemirror_mode": {
    "name": "ipython",
    "version": 3
   },
   "file_extension": ".py",
   "mimetype": "text/x-python",
   "name": "python",
   "nbconvert_exporter": "python",
   "pygments_lexer": "ipython3",
   "version": "3.8.13"
  }
 },
 "nbformat": 4,
 "nbformat_minor": 5
}
