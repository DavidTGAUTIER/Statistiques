{
 "cells": [
  {
   "cell_type": "markdown",
   "id": "df076bf4",
   "metadata": {},
   "source": [
    "Le test du $\\chi_2$ (wikipedia) sert à comparer deux distributions.<br> Il peut être appliqué sur un tableau de contingence pour comparer la distributions observée avec la distribution qu’on observerait si les deux facteurs du tableau étaient indépendants. On note $M=(m_{ij})$ une matrice de dimension $I \\times J$. Le test du $\\chi_2$ se calcule comme suit :\n",
    "\n"
   ]
  },
  {
   "cell_type": "markdown",
   "id": "2272eed2",
   "metadata": {},
   "source": [
    "### $T = \\sum {ij} \\frac{(m_{ij} - n_{ij})^2}{n_{ij}} $"
   ]
  },
  {
   "cell_type": "markdown",
   "id": "98ef16f7",
   "metadata": {},
   "source": [
    "La variable aléatoire T suit asymptotiquement une loi du $\\chi_2$ à $(I-1)(J-1)$ degrés de liberté (table).</br>\n",
    "Comment le calculer avec numpy ?"
   ]
  },
  {
   "cell_type": "markdown",
   "id": "9ff64b85",
   "metadata": {},
   "source": [
    "table du $\\chi_2$ : https://www.apprendre-en-ligne.net/random/tablekhi2.html"
   ]
  },
  {
   "cell_type": "markdown",
   "id": "ee174b2c",
   "metadata": {},
   "source": [
    "### Tableau au hasard"
   ]
  },
  {
   "cell_type": "markdown",
   "id": "d3ac2c5b",
   "metadata": {},
   "source": [
    "On prend un petit tableau qu’on choisit au hasard, de préférence non carré pour détecter des erreurs de calculs."
   ]
  },
  {
   "cell_type": "code",
   "execution_count": 1,
   "id": "655c400f",
   "metadata": {},
   "outputs": [
    {
     "data": {
      "text/plain": [
       "array([[ 4,  5,  2,  1],\n",
       "       [ 6,  3,  1,  7],\n",
       "       [10, 14,  6,  9]])"
      ]
     },
     "execution_count": 1,
     "metadata": {},
     "output_type": "execute_result"
    }
   ],
   "source": [
    "import numpy\n",
    "M = numpy.array([[4, 5, 2, 1],\n",
    "                 [6, 3, 1, 7],\n",
    "                 [10, 14, 6, 9]])\n",
    "M"
   ]
  },
  {
   "cell_type": "markdown",
   "id": "2d603965",
   "metadata": {},
   "source": [
    "## calcul avec scipy"
   ]
  },
  {
   "cell_type": "code",
   "execution_count": 2,
   "id": "174afb74",
   "metadata": {},
   "outputs": [
    {
     "data": {
      "text/plain": [
       "(6.168598503892621, 6, 0.4045712090580829)"
      ]
     },
     "execution_count": 2,
     "metadata": {},
     "output_type": "execute_result"
    }
   ],
   "source": [
    "from scipy.stats import chi2_contingency\n",
    "chi2, pvalue, degrees, expected = chi2_contingency(M)\n",
    "chi2, degrees, pvalue"
   ]
  },
  {
   "cell_type": "markdown",
   "id": "44279a86",
   "metadata": {},
   "source": [
    "## calcul avec numpy"
   ]
  },
  {
   "cell_type": "code",
   "execution_count": 4,
   "id": "930fac48",
   "metadata": {},
   "outputs": [
    {
     "data": {
      "text/plain": [
       "(array([12, 17, 39]), array([20, 22,  9, 17]), 68)"
      ]
     },
     "execution_count": 4,
     "metadata": {},
     "output_type": "execute_result"
    }
   ],
   "source": [
    "N = M.sum()\n",
    "ni = numpy.array( [M[i,:].sum() for i in range(M.shape[0])] ) # somme des lignes\n",
    "nj = numpy.array( [M[:,j].sum() for j in range(M.shape[1])] ) # somme des colonnes\n",
    "ni, nj, N"
   ]
  },
  {
   "cell_type": "markdown",
   "id": "7ea11596",
   "metadata": {},
   "source": [
    "Et comme c’est un usage courant, numpy propose une façon de faire sans écrire une boucle avec la fonction sum :"
   ]
  },
  {
   "cell_type": "code",
   "execution_count": 5,
   "id": "f2ba279d",
   "metadata": {},
   "outputs": [
    {
     "data": {
      "text/plain": [
       "(array([12, 17, 39]), array([20, 22,  9, 17]), 68)"
      ]
     },
     "execution_count": 5,
     "metadata": {},
     "output_type": "execute_result"
    }
   ],
   "source": [
    "ni = M.sum(axis=1)\n",
    "nj = M.sum(axis=0)\n",
    "ni, nj, N"
   ]
  },
  {
   "cell_type": "code",
   "execution_count": 7,
   "id": "5cd8471e",
   "metadata": {},
   "outputs": [
    {
     "name": "stdout",
     "output_type": "stream",
     "text": [
      "[4 5 2 1]\n",
      "12\n",
      "[6 3 1 7]\n",
      "17\n",
      "[10 14  6  9]\n",
      "39\n"
     ]
    }
   ],
   "source": [
    "for i in range(M.shape[0]):\n",
    "    print(M[i,:])\n",
    "    print(M[i, :].sum())"
   ]
  },
  {
   "cell_type": "code",
   "execution_count": 8,
   "id": "0c7f2ae3",
   "metadata": {},
   "outputs": [
    {
     "name": "stdout",
     "output_type": "stream",
     "text": [
      "[ 4  6 10]\n",
      "20\n",
      "[ 5  3 14]\n",
      "22\n",
      "[2 1 6]\n",
      "9\n",
      "[1 7 9]\n",
      "17\n"
     ]
    }
   ],
   "source": [
    "for j in range(M.shape[1]):\n",
    "    print(M[:,j])\n",
    "    print(M[:,j].sum())"
   ]
  },
  {
   "cell_type": "code",
   "execution_count": 11,
   "id": "e79b6289",
   "metadata": {},
   "outputs": [
    {
     "data": {
      "text/plain": [
       "array([[ 3.52941176,  3.88235294,  1.58823529,  3.        ],\n",
       "       [ 5.        ,  5.5       ,  2.25      ,  4.25      ],\n",
       "       [11.47058824, 12.61764706,  5.16176471,  9.75      ]])"
      ]
     },
     "execution_count": 11,
     "metadata": {},
     "output_type": "execute_result"
    }
   ],
   "source": [
    "nij = ni.reshape(M.shape[0], 1) * nj / N\n",
    "nij"
   ]
  },
  {
   "cell_type": "code",
   "execution_count": 12,
   "id": "98121527",
   "metadata": {},
   "outputs": [
    {
     "data": {
      "text/plain": [
       "6.168598503892621"
      ]
     },
     "execution_count": 12,
     "metadata": {},
     "output_type": "execute_result"
    }
   ],
   "source": [
    "d = (M - nij) ** 2 / nij\n",
    "d.sum()"
   ]
  }
 ],
 "metadata": {
  "kernelspec": {
   "display_name": "Python 3",
   "language": "python",
   "name": "python3"
  },
  "language_info": {
   "codemirror_mode": {
    "name": "ipython",
    "version": 3
   },
   "file_extension": ".py",
   "mimetype": "text/x-python",
   "name": "python",
   "nbconvert_exporter": "python",
   "pygments_lexer": "ipython3",
   "version": "3.8.8"
  }
 },
 "nbformat": 4,
 "nbformat_minor": 5
}
